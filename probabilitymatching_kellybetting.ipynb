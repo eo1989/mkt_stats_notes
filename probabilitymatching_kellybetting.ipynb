{
 "cells": [
  {
   "cell_type": "code",
   "execution_count": 1,
   "metadata": {},
   "outputs": [],
   "source": [
    "import datetime as dt\n",
    "import time\n",
    "import numpy as np\n",
    "import pandas as pd\n",
    "import matplotlib.pyplot as plt\n",
    "import seaborn as sns\n",
    "import statsmodels as sm\n",
    "import plotly.express as px\n",
    "import plotly.graph_objects as go\n",
    "import plotly.io as pio\n",
    "\n",
    "pd.options.plotting.backend = \"plotly\"\n",
    "pio.templates.default = 'plotly_dark'\n",
    "pio.renderers.default = 'notebook_connected'\n",
    "\n",
    "sns.set_style('darkgrid')\n",
    "# sns.style.use('seaborn-deep')\n",
    "plt.rcParams['figure.dpi'] = 150"
   ]
  },
  {
   "cell_type": "code",
   "execution_count": 2,
   "metadata": {},
   "outputs": [
    {
     "data": {
      "text/plain": [
       "0.3999999999999999"
      ]
     },
     "execution_count": 2,
     "metadata": {},
     "output_type": "execute_result"
    }
   ],
   "source": [
    "def kelly(p, w = 1, l = 1):\n",
    "\treturn p/l - (1 - p)/w\n",
    "\n",
    "kelly(0.7)"
   ]
  },
  {
   "cell_type": "code",
   "execution_count": 3,
   "metadata": {},
   "outputs": [],
   "source": [
    "from IPython.display import Markdown, display_markdown"
   ]
  },
  {
   "cell_type": "code",
   "execution_count": 8,
   "metadata": {},
   "outputs": [
    {
     "data": {
      "text/markdown": [
       "\n",
       "<br>\n",
       "<center> Probability matching is suboptimal</center>\n",
       "</br>\n",
       "\n",
       "Below we examine the case of an individual playing a game with the following rules:\n",
       "\t- n iterations\n",
       "\t- each iteration is a flip of a biased coin with p = 0.8\n",
       "\t- in each iteration, an individual bets $1 on either H or T. They lose their bet if they are wrong, win their bet if they are right.\n",
       "Obviously the dominant strategy is to bet $1 on H every time if p > 0.5, else bet 1 on T every time.\n",
       "Probability matching\" is the observed bias in which people tend to bet H with a frequency approx equal to the probability of H, i.e betting heads 80% of the time.\n",
       "Consider a situation where the coin has known bias p >= 0.5 and we bet heads with frequency f. Elementary arithmetic shows that the EV per iteration is 1 - 2(f+p-2fp).\n",
       "In the \"optimal\" case f=1, we recover EV = 2p-1. Probability matching yields (2p-1)^2.\n"
      ]
     },
     "metadata": {},
     "output_type": "display_data"
    }
   ],
   "source": [
    "a = Markdown(\n",
    "\"\"\"\n",
    "<br>\n",
    "<center> Probability matching is suboptimal</center>\n",
    "</br>\n",
    "\n",
    "Below we examine the case of an individual playing a game with the following rules:\n",
    "\t- n iterations\n",
    "\t- each iteration is a flip of a biased coin with p = 0.8\n",
    "\t- in each iteration, an individual bets $1 on either H or T. They lose their bet if they are wrong, win their bet if they are right.\n",
    "Obviously the dominant strategy is to bet $1 on H every time if p > 0.5, else bet 1 on T every time.\n",
    "Probability matching\" is the observed bias in which people tend to bet H with a frequency approx equal to the probability of H, i.e betting heads 80% of the time.\n",
    "Consider a situation where the coin has known bias p >= 0.5 and we bet heads with frequency f. Elementary arithmetic shows that the EV per iteration is 1 - 2(f+p-2fp).\n",
    "In the \"optimal\" case f=1, we recover EV = 2p-1. Probability matching yields (2p-1)^2.\n",
    "\"\"\")\n",
    "display_markdown(a)"
   ]
  },
  {
   "cell_type": "code",
   "execution_count": null,
   "metadata": {},
   "outputs": [],
   "source": [
    "ps = np.linspace(0.5, 1, 100)\n",
    "df = pd.DataFrame({\"optimal\": 2*ps - 1, \"matching\": (2*ps - 1)**2}, index = ps)\n",
    "df.plot(x=\"optimal\", y=\"matching\", x)"
   ]
  },
  {
   "cell_type": "code",
   "execution_count": null,
   "metadata": {},
   "outputs": [],
   "source": []
  }
 ],
 "metadata": {
  "kernelspec": {
   "display_name": "Py 3.12.5 (base)",
   "language": "python",
   "name": "py3125_base"
  },
  "language_info": {
   "codemirror_mode": {
    "name": "ipython",
    "version": 3
   },
   "file_extension": ".py",
   "mimetype": "text/x-python",
   "name": "python",
   "nbconvert_exporter": "python",
   "pygments_lexer": "ipython3",
   "version": "3.12.5"
  },
  "orig_nbformat": 4,
  "vscode": {
   "interpreter": {
    "hash": "369f2c481f4da34e4445cda3fffd2e751bd1c4d706f27375911949ba6bb62e1c"
   }
  }
 },
 "nbformat": 4,
 "nbformat_minor": 2
}
