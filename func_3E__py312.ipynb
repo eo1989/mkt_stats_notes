{
 "cells": [
  {
   "cell_type": "code",
   "execution_count": null,
   "metadata": {},
   "outputs": [],
   "source": [
    "# Loaded variable 'df' from URI: ..\\..\\..\\uniq_utils\\WhatsMyExposure.xlsx\n",
    "import pandas as pd\n",
    "df = pd.read_excel(r'..\\..\\..\\uniq_utils\\WhatsMyExposure.xlsx')"
   ]
  }
 ],
 "metadata": {
  "kernelspec": {
   "display_name": "WinPy3.12sys",
   "language": "python",
   "name": "win_pyenv3.12"
  },
  "language_info": {
   "name": "python",
   "version": "3.12.0"
  }
 },
 "nbformat": 4,
 "nbformat_minor": 2
}
