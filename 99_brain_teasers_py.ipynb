{
  "cells": [
    {
      "cell_type": "raw",
      "metadata": {},
      "source": [
        "---\n",
        "title: Brain games 99 Brain teasers\n",
        "author: Ernest Orlowski\n",
        "format:\n",
        "  html:\n",
        "    code-folding: true\n",
        "---"
      ],
      "id": "db2deba6"
    },
    {
      "cell_type": "markdown",
      "metadata": {},
      "source": [
        "##  p67, Puzzle: code"
      ],
      "id": "05feea5f"
    },
    {
      "cell_type": "code",
      "metadata": {},
      "source": [
        "a, b = True, True\n",
        "\n",
        "if"
      ],
      "id": "a049073c",
      "execution_count": null,
      "outputs": []
    }
  ],
  "metadata": {
    "kernelspec": {
      "name": "python3",
      "language": "python",
      "display_name": "Python 3 (ipykernel)"
    }
  },
  "nbformat": 4,
  "nbformat_minor": 5
}