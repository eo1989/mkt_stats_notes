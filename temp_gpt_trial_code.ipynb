{
 "cells": [
  {
   "cell_type": "code",
   "execution_count": 1,
   "metadata": {},
   "outputs": [],
   "source": [
    "import numpy as np\n",
    "from scipy.stats import norm\n"
   ]
  },
  {
   "cell_type": "code",
   "execution_count": 2,
   "metadata": {},
   "outputs": [],
   "source": [
    "def exp_move(S, K, dte, iv):\n",
    "    d1 = (np.log(S / K) + (0.5 * (iv**2) * dte)) / (iv * np.sqrt(dte))\n",
    "    d2 = d1 - (iv * np.sqrt(dte))\n",
    "\n",
    "    call_price = S * norm.cdf(d1) - K * np.exp(-1 * 0.01 * dte) * norm.cdf(d2)\n",
    "    put_price = K * np.exp(-1 * 0.01 * dte) * norm.cdf(-1 * d2) - S * norm.cdf(-1 * d1)\n",
    "\n",
    "    exp_move = call_price + put_price\n",
    "    return exp_move\n"
   ]
  },
  {
   "cell_type": "code",
   "execution_count": 3,
   "metadata": {},
   "outputs": [],
   "source": [
    "S = 100\n",
    "K = 100\n",
    "dte = 30\n",
    "iv = 0.2\n"
   ]
  },
  {
   "cell_type": "code",
   "execution_count": 4,
   "metadata": {},
   "outputs": [
    {
     "name": "stdout",
     "output_type": "stream",
     "text": [
      "72.44\n"
     ]
    }
   ],
   "source": [
    "expected_move = exp_move(S, K, dte, iv)\n",
    "print(round(expected_move, 2))\n"
   ]
  },
  {
   "cell_type": "code",
   "execution_count": null,
   "metadata": {},
   "outputs": [],
   "source": []
  }
 ],
 "metadata": {
  "kernelspec": {
   "display_name": "Python 3",
   "language": "python",
   "name": "python3"
  },
  "language_info": {
   "codemirror_mode": {
    "name": "ipython",
    "version": 3
   },
   "file_extension": ".py",
   "mimetype": "text/x-python",
   "name": "python",
   "nbconvert_exporter": "python",
   "pygments_lexer": "ipython3",
   "version": "3.11.1"
  },
  "orig_nbformat": 4
 },
 "nbformat": 4,
 "nbformat_minor": 2
}
