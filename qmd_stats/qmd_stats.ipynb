{
  "cells": [
    {
      "cell_type": "raw",
      "metadata": {},
      "source": [
        "---\n",
        "title: qmd_stats for finance & markets-extended\n",
        "author: Ernest Orlowski\n",
        "format:\n",
        "  html: null\n",
        "  code-fold: true\n",
        "editor:\n",
        "  markdown:\n",
        "    wrap: 80\n",
        "---"
      ],
      "id": "8569b853"
    },
    {
      "cell_type": "markdown",
      "metadata": {},
      "source": [
        "# Market Stats & Vol Analysis\n",
        "\n",
        "## Quick Overview\n",
        "\n",
        "1.  Normal Distribution & Its Limitations <!--(#Normal-Distribution-&-Its-Limitations) -->\n",
        "Do stock returns follow a normal distribution? Almost certainly not. The distribution of asset prices is a product of intricate micro-market dynamics involving trade flow, pricing distributions(#note), and volumes. The primary issues to consider\n",
        "are:\n",
        "*   Asset returns exhibit `skewness` & `kurtosis` (fat tails).\n",
        "*   Returns may display serial correlation, meaning successive returns aren't independent(#note).\n",
        "*   Volatility isnt constant over time, it exhibits `heterscedasticity`, with Sharpe volatility clustering.\n",
        "*   Relationships exist between volatility and asset returns, such as the `Leverage Effect`.\n",
        "\n",
        "\n",
        "2. **CLT** Central Limit Theorem\n",
        "The CLT is a fundamental theorem in statistics. It states that the distirbution of a sample mean of a sufficiently large number of\n",
        "\n",
        "<!-- 1.  [Volatility](#Volatility) -->"
      ],
      "id": "76021277"
    }
  ],
  "metadata": {
    "kernelspec": {
      "name": "python3",
      "language": "python",
      "display_name": "Python 3 (ipykernel)"
    }
  },
  "nbformat": 4,
  "nbformat_minor": 5
}