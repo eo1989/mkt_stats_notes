{
 "cells": [
  {
   "cell_type": "code",
   "execution_count": 2,
   "metadata": {},
   "outputs": [
    {
     "name": "stdout",
     "output_type": "stream",
     "text": [
      "<map object at 0x000002990BFCAEF0>\n"
     ]
    }
   ],
   "source": [
    "# recurisvely defined fibs\n",
    "# most intuitive implementation is recursive\n",
    "def fib(n):\n",
    "    if n in [0, 1]:\n",
    "        return 1\n",
    "    else:\n",
    "        return fib(n - 1) + fib(n - 2)\n",
    "\n",
    "\n",
    "# works ok\n",
    "# but to calculate fib(10) algorithm has to calculate fib(9) and fib(8) first.\n",
    "map(fib, range(10))\n"
   ]
  },
  {
   "cell_type": "code",
   "execution_count": 3,
   "metadata": {},
   "outputs": [],
   "source": [
    "# using memoization instead\n",
    "def fib(n):\n",
    "    # iterative implementation, memoized\n",
    "\tx, y = 0, 1\n",
    "\tfor _ in range(n):\n",
    "\t\tx, y = y, x + y\n",
    "\treturn y"
   ]
  },
  {
   "attachments": {},
   "cell_type": "markdown",
   "metadata": {},
   "source": [
    "- Haskell embraces laziness where values are only computed as needed, meaning you can compute the infinite sequence of Fibonacci numbers.\n",
    "```Haskell\n",
    "\tfibs :: [Int]\n",
    "\tfibs = 1 : 1 : zipWith (+) fibs (tail fibs)\n",
    "\n",
    "```\n",
    "- in ghci write 'take 10 fibs' to see the first 10 numbers in the sequence\n",
    "\n",
    "- The code/definition above should be understood as: \"the sequence that starts with 1, followed by 1, followed by the sequence of numbers obtained by \"zipping\" together the sequences `fibs` and `tail fibs` (that is, all of the elements of `fibs` after the first) and adding together each corresponding pair of elements.\"\n",
    "- Which means the third element of the sequence is the first element (of `fibs`) plus the second element (which is the first element of `tail fibs`). The fourth element is the second element of `fibs` plus the third element ( which is the second element of `tail fibs`), and so on. It only sounds circular because we're using `fibs` to define `fibs`.\n",
    "- the following sort of thing leads to infinite recursion:"
   ]
  },
  {
   "cell_type": "code",
   "execution_count": null,
   "metadata": {},
   "outputs": [
    {
     "ename": "",
     "evalue": "",
     "output_type": "error",
     "traceback": [
      "\u001b[1;31mCanceled future for execute_request message before replies were done"
     ]
    },
    {
     "ename": "",
     "evalue": "",
     "output_type": "error",
     "traceback": [
      "\u001b[1;31mThe Kernel crashed while executing code in the the current cell or a previous cell. Please review the code in the cell(s) to identify a possible cause of the failure. Click <a href='https://aka.ms/vscodeJupyterKernelCrash'>here</a> for more info. View Jupyter <a href='command:jupyter.viewOutput'>log</a> for further details."
     ]
    }
   ],
   "source": [
    "# python implementation of the haskell 'style' `fibs`\n",
    "def fibs(x = 0, y = 1):\n",
    "    return [y] + fibs(y, x + y)\n",
    "\n",
    "# print(fibs()[1])\n",
    "# results in kernel crashing.\n",
    "# doesnt even return the proper RuntimeError message"
   ]
  },
  {
   "cell_type": "code",
   "execution_count": 6,
   "metadata": {},
   "outputs": [
    {
     "data": {
      "text/plain": [
       "<generator object <genexpr> at 0x000002393D977BC0>"
      ]
     },
     "execution_count": 6,
     "metadata": {},
     "output_type": "execute_result"
    }
   ],
   "source": [
    "# Laziness in Python using Generators\n",
    "num = (i for i in range(3))\n",
    "num"
   ]
  },
  {
   "cell_type": "code",
   "execution_count": 8,
   "metadata": {},
   "outputs": [
    {
     "ename": "AttributeError",
     "evalue": "'generator' object has no attribute 'next'",
     "output_type": "error",
     "traceback": [
      "\u001b[1;31m---------------------------------------------------------------------------\u001b[0m",
      "\u001b[1;31mAttributeError\u001b[0m                            Traceback (most recent call last)",
      "Cell \u001b[1;32mIn[8], line 1\u001b[0m\n\u001b[1;32m----> 1\u001b[0m num\u001b[39m.\u001b[39;49mnext()\n\u001b[0;32m      2\u001b[0m \u001b[39m# 3.10.8 returns AttributeError: 'generator' object has no attribute 'next'\u001b[39;00m\n",
      "\u001b[1;31mAttributeError\u001b[0m: 'generator' object has no attribute 'next'"
     ]
    }
   ],
   "source": [
    "num.next()\n",
    "# 3.10.8 returns AttributeError: 'generator' object has no attribute 'next'"
   ]
  },
  {
   "cell_type": "code",
   "execution_count": 9,
   "metadata": {},
   "outputs": [
    {
     "data": {
      "text/plain": [
       "[1, 2, 3]"
      ]
     },
     "execution_count": 9,
     "metadata": {},
     "output_type": "execute_result"
    }
   ],
   "source": [
    "def to3():\n",
    "    yield 1\n",
    "    yield 2\n",
    "    yield 3\n",
    "\n",
    "\n",
    "[x for x in to3()]"
   ]
  },
  {
   "attachments": {},
   "cell_type": "markdown",
   "metadata": {},
   "source": [
    "- Haskell implementation used `tail` (to get the elements after the first) and `take` (to get a certain number of elements from the front). Python doesnt have these (yet?), so we'll use `islice` (which allows you to slice a new generator out of an old one) from the `itertools` module:"
   ]
  },
  {
   "cell_type": "code",
   "execution_count": 10,
   "metadata": {},
   "outputs": [],
   "source": [
    "from itertools import islice\n",
    "\n",
    "def tail(iterable):\n",
    "\t\"\"\"Returns all but the first element of an iterable.\"\"\"\n",
    "\treturn islice(iterable, 1, None)\n",
    "\n",
    "def take(n, iterable):\n",
    "\t\"\"\"Returns first n items of the iterable as a list\"\"\"\n",
    "\treturn list(islice(iterable, 0, n))"
   ]
  },
  {
   "cell_type": "code",
   "execution_count": 11,
   "metadata": {},
   "outputs": [],
   "source": [
    "def fibs():\n",
    "\tx, y = (0, 1)\n",
    "\twhile True:\n",
    "\t\tyield y\n",
    "\t\t(x, y) = (y, x + y)\n",
    "\n",
    "def boring_fibs():\n",
    "    cur = next = 1\n",
    "\twhile True:\n",
    "\t\tyield cur\n",
    "\t\tcur, next = next, cur + next"
   ]
  },
  {
   "cell_type": "code",
   "execution_count": 12,
   "metadata": {},
   "outputs": [
    {
     "data": {
      "text/plain": [
       "[1, 1, 2, 3, 5, 8, 13, 21, 34, 55]"
      ]
     },
     "execution_count": 12,
     "metadata": {},
     "output_type": "execute_result"
    }
   ],
   "source": [
    "take(10, fibs())"
   ]
  },
  {
   "cell_type": "code",
   "execution_count": 13,
   "metadata": {},
   "outputs": [],
   "source": [
    "from operator import add\n",
    "from itertools import tee\n",
    "\n",
    "def fibs():\n",
    "\tyield 1\n",
    "\tyield 1\n",
    "\tyield from map(add, fibs(), tail(fibs()))\n",
    "\n",
    "# or as a simple one-liner\n",
    "def fibs():\n",
    "\tprint(f\"a new fibs\")\n",
    "\tyield 1\n",
    "\tyield 1\n",
    "\tfibs1, fibs2 = tee(fibs())\n",
    "\tyield from map(add, fibs1, tail(fibs2()))\n"
   ]
  },
  {
   "cell_type": "code",
   "execution_count": 14,
   "metadata": {},
   "outputs": [
    {
     "data": {
      "text/plain": [
       "[(1, 3), (4, 6), (5, 2), (6, 1)]"
      ]
     },
     "execution_count": 14,
     "metadata": {},
     "output_type": "execute_result"
    }
   ],
   "source": [
    "# using lambdas\n",
    "square = lambda x: x**2\n",
    "some_list = [(1, 3), (5, 2), (6, 1), (4, 6)]\n",
    "some_list.sort(key = lambda x: x[0]**2 - x[1]*3)\n",
    "some_list"
   ]
  },
  {
   "cell_type": "code",
   "execution_count": 16,
   "metadata": {},
   "outputs": [
    {
     "name": "stdout",
     "output_type": "stream",
     "text": [
      "4\n"
     ]
    },
    {
     "data": {
      "text/plain": [
       "12"
      ]
     },
     "execution_count": 16,
     "metadata": {},
     "output_type": "execute_result"
    }
   ],
   "source": [
    "function_product = lambda F, m: lambda x: F(x)*m\n",
    "print(square(2))\n",
    "\n",
    "function_product(square, 3)(2)"
   ]
  },
  {
   "cell_type": "code",
   "execution_count": 18,
   "metadata": {},
   "outputs": [
    {
     "name": "stdout",
     "output_type": "stream",
     "text": [
      "1\n",
      "5\n",
      "8\n"
     ]
    }
   ],
   "source": [
    "fibonacho = (lambda x, x_1 = 1, x_2 = 0: x_2 if x == 0 else fibonacho(x - 1, x_1 + x_2, x_1))\n",
    "print(fibonacho(1))\n",
    "print(fibonacho(5))\n",
    "print(fibonacho(6))"
   ]
  },
  {
   "cell_type": "code",
   "execution_count": 24,
   "metadata": {},
   "outputs": [
    {
     "data": {
      "text/plain": [
       "<map at 0x2393ebc0280>"
      ]
     },
     "metadata": {},
     "output_type": "display_data"
    },
    {
     "data": {
      "text/plain": [
       "<filter at 0x2393ebc10c0>"
      ]
     },
     "execution_count": 24,
     "metadata": {},
     "output_type": "execute_result"
    }
   ],
   "source": [
    "display(map(lambda x: x**2, [1, 2, 3]))\n",
    "filter(lambda x: x % 2 == 0, [1, 2, 3, 4, 5])\n"
   ]
  },
  {
   "cell_type": "code",
   "execution_count": 26,
   "metadata": {},
   "outputs": [],
   "source": [
    "# yairchu.github.io/posts/leet-haskell-in-python\n",
    "import itertools\n",
    "\n",
    "def leet(gen):\n",
    "\t\"\"\"\n",
    "\tdecorate a fx returning a generator\n",
    "\tto memoize its consumed values for all eternity, amen.\n",
    "\t\"\"\"\n",
    "\toriginal = gen()\n",
    "\tas_list = []\n",
    "\tdef result():\n",
    "\t\tfor i in itertools.count():\n",
    "\t\t\tif i == len(as_list):\n",
    "\t\t\t\tas_list.append(next(original))\n",
    "\t\t\tyield as_list[i]\n",
    "\treturn result\n",
    "\t\t\t\n",
    "\n",
    "@leet  # essential decorator\n",
    "def fibs():\n",
    "\tyield 1; yield 1\n",
    "\tyield from map(add, fibs(), islice(fibs(), 1, None))"
   ]
  },
  {
   "cell_type": "code",
   "execution_count": null,
   "metadata": {},
   "outputs": [],
   "source": [
    "# different implementation of lazy fibs in python\n",
    "def lazy_quicky(gen):\n",
    "\t\"\"\"\n",
    "\tHaskell-style lazy quicksort\n",
    "\tDoesnt need to full sort everything to find the n smallest elements.\n",
    "\n",
    "\tComplexity would be O(n log k) where k is the amount iterated, in comparison\n",
    "\tto O(n log n) for the full sorting algorithm.\n",
    "\n",
    "\tCanonical example is iterating over potential dating candidates\n",
    "\tordered by their level of attractiveness.\n",
    "\tUntil finding the one girl that will agree to go out with you.\n",
    "\t\"\"\"\n",
    "\tgen = iter(gen)\n",
    "\ttry:\n",
    "\t\tpivot = next(gen)\n",
    "\texcept StopIteration:\n",
    "\t\treturn\n",
    "\tless = [], more = []\n",
    "\tfor x in gen:\n",
    "\t\t(less if x < pivot else more).append(x)\n",
    "\tyield from lazy_quicky(less)\n",
    "\tyield pivot\n",
    "\tyield from lazy_quicky(more)\n",
    "\t"
   ]
  }
 ],
 "metadata": {
  "kernelspec": {
   "display_name": "Python 3",
   "language": "python",
   "name": "python3"
  },
  "language_info": {
   "codemirror_mode": {
    "name": "ipython",
    "version": 3
   },
   "file_extension": ".py",
   "mimetype": "text/x-python",
   "name": "python",
   "nbconvert_exporter": "python",
   "pygments_lexer": "ipython3",
   "version": "3.10.8"
  },
  "orig_nbformat": 4,
  "vscode": {
   "interpreter": {
    "hash": "369f2c481f4da34e4445cda3fffd2e751bd1c4d706f27375911949ba6bb62e1c"
   }
  }
 },
 "nbformat": 4,
 "nbformat_minor": 2
}
