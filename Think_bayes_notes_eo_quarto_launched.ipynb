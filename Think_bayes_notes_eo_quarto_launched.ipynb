{
 "cells": [
  {
   "cell_type": "raw",
   "metadata": {},
   "source": [
    "---\n",
    "title: \"Think Bayes Notes\"\n",
    "author: \"Ernest Orlowski\"\n",
    "format:\n",
    "  html:\n",
    "    code-fold: true\n",
    "    fig-width: 8\n",
    "    fig-height: 6\n",
    "  pdf:\n",
    "    fig-width: 7\n",
    "    fig-height: 5\n",
    "execute:\n",
    "  enabled: true\n",
    "  keep-ipynb: true\n",
    "jupyter: python3\n",
    "---"
   ]
  },
  {
   "cell_type": "code",
   "execution_count": 26,
   "metadata": {},
   "outputs": [
    {
     "name": "stdout",
     "output_type": "stream",
     "text": [
      "0.5000000000000002\n"
     ]
    }
   ],
   "source": [
    "import numpy as np\n",
    "from empiricaldist import Pmf\n",
    "from scipy.stats import binom\n",
    "import matplotlib.pyplot as plt\n",
    "\n",
    "n = 2\n",
    "p = 0.5\n",
    "k = 1\n",
    "\n",
    "print(binom.pmf(k, n, p))\n"
   ]
  },
  {
   "cell_type": "code",
   "execution_count": 27,
   "metadata": {},
   "outputs": [
    {
     "name": "stdout",
     "output_type": "stream",
     "text": [
      "The result of ps=[0.25 0.5  0.25] is a numpy array with the probability of 0, 1, or 2 heads.\n",
      "If these values are put into a Pmf, the result is the distribution of k for the given values of n and p.\n"
     ]
    }
   ],
   "source": [
    "ks = np.arange(n + 1)\n",
    "ps = binom.pmf(ks, n, p)\n",
    "print(\n",
    "    f\"The result of ps={ps} is a numpy array with the probability of 0, 1, or 2 heads.\\nIf these values are put into a Pmf, the result is the distribution of k for the given values of n and p.\"\n",
    ")\n"
   ]
  },
  {
   "cell_type": "code",
   "execution_count": 28,
   "metadata": {},
   "outputs": [
    {
     "data": {
      "text/html": [
       "<div>\n",
       "<style scoped>\n",
       "    .dataframe tbody tr th:only-of-type {\n",
       "        vertical-align: middle;\n",
       "    }\n",
       "\n",
       "    .dataframe tbody tr th {\n",
       "        vertical-align: top;\n",
       "    }\n",
       "\n",
       "    .dataframe thead th {\n",
       "        text-align: right;\n",
       "    }\n",
       "</style>\n",
       "<table border=\"1\" class=\"dataframe\">\n",
       "  <thead>\n",
       "    <tr style=\"text-align: right;\">\n",
       "      <th></th>\n",
       "      <th>probs</th>\n",
       "    </tr>\n",
       "  </thead>\n",
       "  <tbody>\n",
       "    <tr>\n",
       "      <th>0</th>\n",
       "      <td>0.25</td>\n",
       "    </tr>\n",
       "    <tr>\n",
       "      <th>1</th>\n",
       "      <td>0.50</td>\n",
       "    </tr>\n",
       "    <tr>\n",
       "      <th>2</th>\n",
       "      <td>0.25</td>\n",
       "    </tr>\n",
       "  </tbody>\n",
       "</table>\n",
       "</div>"
      ],
      "text/plain": [
       "0    0.25\n",
       "1    0.50\n",
       "2    0.25\n",
       "Name: , dtype: float64"
      ]
     },
     "execution_count": 28,
     "metadata": {},
     "output_type": "execute_result"
    }
   ],
   "source": [
    "pmf_k = Pmf(ps, ks)\n",
    "pmf_k\n"
   ]
  },
  {
   "cell_type": "code",
   "execution_count": 30,
   "metadata": {},
   "outputs": [
    {
     "data": {
      "text/plain": [
       "<matplotlib.legend.Legend at 0x17762e30610>"
      ]
     },
     "execution_count": 30,
     "metadata": {},
     "output_type": "execute_result"
    },
    {
     "data": {
      "image/png": "[encoded data removed]",
      "text/plain": [
       "<Figure size 640x480 with 1 Axes>"
      ]
     },
     "metadata": {},
     "output_type": "display_data"
    }
   ],
   "source": [
    "# | label: k\n",
    "def make_binomial(n, p):\n",
    "    ks = np.arange(n + 1)\n",
    "    ps = binom.pmf(ks, n, p)\n",
    "    return Pmf(ps, ks)\n",
    "\n",
    "\n",
    "# heres what it looks like with n = 250 & p = 0.5\n",
    "(pmf_k := make_binomial(n=250, p=0.5))\n",
    "fig = plt.plot(pmf_k)\n",
    "plt.title(\"Binomial Distribution\")\n",
    "plt.ylabel(\"PMF\")\n",
    "plt.xlabel(\"Number of heads (k)\")\n",
    "plt.legend([\"n=250, p=0.5\"], loc=\"upper right\")\n"
   ]
  },
  {
   "attachments": {},
   "cell_type": "markdown",
   "metadata": {},
   "source": []
  },
  {
   "cell_type": "code",
   "execution_count": 7,
   "metadata": {},
   "outputs": [],
   "source": [
    "# | label: fig-cdf\n",
    "# | fig-cap: \"Plotting CDF\"\n",
    "# | fig-alt: \"Posterior distribution for the Euro Problem\"\n",
    "\n",
    "hypos = np.linspace(0, 1, 101)\n",
    "pmf = Pmf(1, hypos)\n",
    "data = 140, 250\n"
   ]
  },
  {
   "cell_type": "code",
   "execution_count": 8,
   "metadata": {},
   "outputs": [],
   "source": [
    "def update_binomial(pmf, data):\n",
    "    \"\"\"Update pmf using binomial distribution\"\"\"\n",
    "    k, n = data\n",
    "    xs = pmf.qs\n",
    "    likelihood = binom.pmf(k, n, xs)\n",
    "    pmf *= likelihood\n",
    "    pmf.normalize()\n",
    "\n",
    "\n",
    "update_binomial(pmf, data)\n"
   ]
  },
  {
   "cell_type": "code",
   "execution_count": 9,
   "metadata": {},
   "outputs": [],
   "source": [
    "# @fig-cdf\n",
    "cumulative = pmf.cumsum()\n"
   ]
  },
  {
   "cell_type": "code",
   "execution_count": null,
   "metadata": {},
   "outputs": [],
   "source": []
  }
 ],
 "metadata": {
  "kernelspec": {
   "display_name": "Python 3",
   "language": "python",
   "name": "python3"
  },
  "language_info": {
   "codemirror_mode": {
    "name": "ipython",
    "version": 3
   },
   "file_extension": ".py",
   "mimetype": "text/x-python",
   "name": "python",
   "nbconvert_exporter": "python",
   "pygments_lexer": "ipython3",
   "version": "3.11.1"
  },
  "orig_nbformat": 4
 },
 "nbformat": 4,
 "nbformat_minor": 2
}
