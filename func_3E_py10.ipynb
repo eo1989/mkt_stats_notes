{
  "cells": [
    {
      "cell_type": "raw",
      "metadata": {},
      "source": [
        "---\n",
        "title: \"functional programming 2E py310\"\n",
        "format:\n",
        "\thtml:\n",
        "\t\tcode-fold: true\n",
        "# jupyter: python3\n",
        "---"
      ],
      "id": "3d735151"
    },
    {
      "cell_type": "code",
      "metadata": {},
      "source": [
        "#| label: fig-polar\n",
        "#| fig-cap: A line plot on a polar axis\n",
        "import numpy as np\n",
        "import matplotlib.pyplot as plt\n",
        "\n",
        "r = np.arange(0, 2, 0.01)\n",
        "theta = 2 * np.pi * r\n",
        "fig, ax = plt.subplots(subplot_kw = {'projection': 'polar'})\n",
        "ax.plot(theta, r)\n",
        "ax.set_rticks([0.5, 1, 1.5, 2])\n",
        "ax.grid(True)\n",
        "plt.show()"
      ],
      "id": "fig-polar",
      "execution_count": null,
      "outputs": []
    },
    {
      "cell_type": "markdown",
      "metadata": {},
      "source": [
        "# it works!\n",
        "\n",
        "\n",
        " Functional Python Programming - Use a functional approach to write succinct, expressive, & efficient Python(2022, 3E, Pact).pdf\n",
        " p.4\n",
        " Comparing & contrasting proceduarl and functional styles:\n",
        "\n",
        " Procedural:\n",
        " The sum computed by this fx include only numbers that are multiples of 3 or 5.\n",
        " this fx is strictly procedural, avoiding explicit python object features.\n",
        " Functions state is defined by the values of the variables s and n.\n",
        " The variable n takes on values such that 1 <= n < 10.\n",
        " As the iteration involves an ordered exploration of values for the n variable,\n",
        " we can prove that itll terminate when the value of n is equal to the value of limit.\n",
        " There are two explicit assignment statements, both settings values for the s variable.\n",
        " These state changes are visible. The value of n is set implicitly by the fore statement.\n",
        " The state change in the s variable is an essential element of the state of the computation.\n"
      ],
      "id": "bd92ef79"
    },
    {
      "cell_type": "code",
      "metadata": {},
      "source": [
        "def sum_numeric(limit: int = 10) -> int:\n",
        "\ts = 0\n",
        "\tfor i in range(1, limit):\n",
        "\t\tif n % 3 == 0 or n % 5 == 0:\n",
        "\t\t\ts += n\n",
        "\treturn s"
      ],
      "id": "9d369170",
      "execution_count": null,
      "outputs": []
    },
    {
      "cell_type": "markdown",
      "metadata": {},
      "source": [
        " Look at this from a purely functional perspective. Then examine more pythonic perspective that retains the essence\n",
        " of a functional approach while leveraging a number of Pythons features.\n",
        " The sum of the multples of 3 and 5 can be decomposed into two parts:\n",
        " - The sum of a sequence of numbers.\n",
        " - A sequence of values that pass a simple test condition, for example, being multiples of 3 and 5.\n",
        " The sum of a sequence has a recursive definition."
      ],
      "id": "378e68d1"
    },
    {
      "cell_type": "code",
      "metadata": {},
      "source": [
        "from collections.abc import Sequence\n",
        "def sumr(seq: Sequence[int]) -> int:\n",
        "\tif len(seq) == 0:\n",
        "\t\treturn 0\n",
        "\treturn seq[0] + sumr(seq[1:])"
      ],
      "id": "ccb5995b",
      "execution_count": null,
      "outputs": []
    },
    {
      "cell_type": "code",
      "metadata": {},
      "source": [
        "sumr([7, 11])"
      ],
      "id": "339592c8",
      "execution_count": null,
      "outputs": []
    },
    {
      "cell_type": "code",
      "metadata": {},
      "source": [
        "sumr([11])"
      ],
      "id": "d6587c81",
      "execution_count": null,
      "outputs": []
    },
    {
      "cell_type": "code",
      "metadata": {},
      "source": [
        "sumr([])"
      ],
      "id": "e6a9d85e",
      "execution_count": null,
      "outputs": []
    },
    {
      "cell_type": "markdown",
      "metadata": {},
      "source": [
        "In this fx, compared a given value, v, against the upper bound, limit. If v has reached the upper bound, the resulting\n",
        "list must be empty. This is the base case for the given recursion.\n",
        "There are two more cases defined by an externally defined filter_func() fx. The value of v is passed to the filter_func() fx;\n",
        "if this returns a very small list, containing one element, this can be concatenated with any remaining values computed by the until fx.\n",
        "If the value of v is rejected by the filter_func() fx, the value is ignored and the result is simply defined by any remaining\n",
        "values computed by the until() function."
      ],
      "id": "e4a25e64"
    },
    {
      "cell_type": "code",
      "metadata": {},
      "source": [
        "from collections.abc import Sequence, Callable\n",
        "\n",
        "def until(limit: int, filter_func: Callable[[int], bool], v: int) ->list[int]:\n",
        "\tif v >= limit:\n",
        "\t\treturn []\n",
        "\telif filter_func(v):\n",
        "\t\treturn [v] + until(limit, filter_func, v + 1)\n",
        "\telse:\n",
        "\t\treturn until(limit, filter_func, v + 1)"
      ],
      "id": "4863158a",
      "execution_count": null,
      "outputs": []
    },
    {
      "cell_type": "markdown",
      "metadata": {},
      "source": [
        "You can see that the value of v will increase from an initial val until it reaches limit, assuring\n",
        "us that we'll reach the base case.\n",
        "Before using the until() function, define a small fx to filter values that are multiples of 3 OR 5.\n"
      ],
      "id": "7cd95608"
    },
    {
      "cell_type": "code",
      "metadata": {},
      "source": [
        "def mult_3_5(x: int) -> bool:\n",
        "\treturn x % 3 == 0 or x % 5 == 0"
      ],
      "id": "17289c07",
      "execution_count": null,
      "outputs": []
    },
    {
      "cell_type": "markdown",
      "metadata": {},
      "source": [
        " couldve also been defined as a lambda object to emphasize succinct definitions of simple functions.\n",
        "\n",
        " The fx can be combined ith until() to generate a sequence of values which are multiples of 3 and 5\n"
      ],
      "id": "e3c331eb"
    },
    {
      "cell_type": "code",
      "metadata": {},
      "source": [
        "until(10, mult_3_5, 0)"
      ],
      "id": "d5955dd5",
      "execution_count": null,
      "outputs": []
    },
    {
      "cell_type": "markdown",
      "metadata": {},
      "source": [
        " looking at the decomposition at the top (sumr) u can now compute sums and a way to compute the sequence of values.\n",
        " combining sumr() and until() to compute a sum of values:"
      ],
      "id": "68eefd57"
    },
    {
      "cell_type": "code",
      "metadata": {},
      "source": [
        "def sum_functional(limit: int = 10) -> int:\n",
        "\treturn sumr(until(limit, mult_3_5, 0))"
      ],
      "id": "fbe4f8e8",
      "execution_count": null,
      "outputs": []
    },
    {
      "cell_type": "markdown",
      "metadata": {},
      "source": [
        " Its a purely functional, recursive definition that matches the mathematical abstractions. making it easier to reason about.\n",
        " functional hybrid"
      ],
      "id": "04b65732"
    },
    {
      "cell_type": "code",
      "metadata": {},
      "source": [
        "def sum_hybrid(limit: int = 10) -> int:\n",
        "\treturn sum(\n",
        "\t\tn for n in range(1, limit)\n",
        "\t\tif n % 3 == 0 or n % 5 == 0\n",
        "\t)"
      ],
      "id": "9ad54daf",
      "execution_count": null,
      "outputs": []
    },
    {
      "cell_type": "markdown",
      "metadata": {},
      "source": [
        " generator expression to iterate through a collection of values and compute the sum of these values.\n",
        " the range(1, 10) object is an iterable; it generates a sequence of values {n|1<= n < 10}.\n",
        " the more complex expression n for n in range(1, 10) if n % 3 == 0 or n % 5 == 0 is also a generator.\n",
        " it produces a set of values {n|1<= n < 10∧(𝑛 ≡ 0 mod 3∨𝑛 ≡ 0 mod 5)}\n",
        " can be described as \"values of n such that n is less than or equal to n and n is less than 10 and n is equivalent to 0 modulo 3 or n is equivalent to 0 modulo 5\"\n",
        " the variable n is bound, in turn, to each of the values provided by the range object. the sum fx consumes the iterable values, creating a final object, 23.\n",
        " * The bound variable, n, doesnt exist outside the generator expression. The variable n isnt visible elsewhere in the program.\n",
        " * a 'for' statement (outside the generator expression) creates a proper variable in the local namespace.\n",
        " * the generator expression doesnt create a variable in the same way that a 'for' statement does:"
      ],
      "id": "a00613dd"
    },
    {
      "cell_type": "code",
      "metadata": {},
      "source": [
        "sum(n for n in range(1, 10) if n % 3 == 0 or n % 5 == 0)"
      ],
      "id": "8bf538fb",
      "execution_count": null,
      "outputs": []
    },
    {
      "cell_type": "markdown",
      "metadata": {},
      "source": [
        " - returns NameError: name 'n' isnt defined.\n",
        " * The generator expression doesnt pollute the namespace with variables, like n, which arent relevant\n",
        " * outside the very narrow context of the expression.\n",
        " * Ch 1, pg 10.\n",
        " The functional programs in this book will rely on the following 3 stacks of abstractions:\n",
        " * Applications will be functions - all the way down - until you hit the objects.\n",
        " ** The underlying python runtime environment that supports the functional programming is objects - all the way down - until you hit the libraries.\n",
        " *** The libraries that suppport python are a turtle on which Python stands.\n",
        "\n",
        " * Newton-Raphson algorithm for locating any roots of a function.\n",
        " define function that will compute a square root of a number.\n",
        " backbone of this approximation is the calculation of the next approximation from the current approximation.\n",
        " the next_() function takes x, an approximation to the sqrt(n) value, and calculates the next value that brackets the proper root.\n",
        " ex:"
      ],
      "id": "2ede8d49"
    },
    {
      "cell_type": "code",
      "metadata": {},
      "source": [
        "def next_(n: float, x: float) -> float:\n",
        "    return (x + n / x) / 2"
      ],
      "id": "e9efa21b",
      "execution_count": null,
      "outputs": []
    },
    {
      "cell_type": "markdown",
      "metadata": {},
      "source": [
        " This fx computes a series of values that will quickly converge on some value x such that $x = n/x$, meaning x = sqrt(n)\n",
        "\n",
        " * Note: the name next() woulve collided with the builtin function 'next'. Calling it next_() lets you\n",
        " * follow the original presentation as closely as possible, using Pythonic names.\n",
        " ### page 12"
      ],
      "id": "534646f6"
    },
    {
      "cell_type": "code",
      "metadata": {},
      "source": [
        "n = 2\n",
        "f = lambda x: next_(n, x)\n",
        "a0 = 1.0\n",
        "[round(x, 4) for x in (a0, f(a0), f(f(a0)), f(f(f(a0))),)]"
      ],
      "id": "7256a3d7",
      "execution_count": null,
      "outputs": []
    },
    {
      "cell_type": "markdown",
      "metadata": {},
      "source": [
        " Defined the function f() as a lambda that will converge on $sqrt(n)$ where $n = 2$. Starting at\n",
        " 1.0 as the initual value for a0. Then evaluated a sequence of recursive evaluations $a_{1} = f(a_{0})$, $a_{2} = f(a_{1})$, $a_{3} = f(a_{2})$, etc until the difference between successive values is less than 0.0001. The sequence converges on 1.41421.\n",
        " These functions evaluated these expressions using a generator expression so that you could round each value to 4 decimal places. This makes the output easier to read and easier to use with 'doctest'. The sequence appears to converge rapidly to $sqrt(2)$. To get a more precise answer, you must continue to perform the series of steps after the first four.\n",
        " This is a function that will (in principle) generate an infinite sequence of $a_{i}$ values. This series will converge\n",
        " on the proper square root:\n"
      ],
      "id": "1d742c7f"
    },
    {
      "cell_type": "code",
      "metadata": {},
      "source": [
        "from collections.abc import Iterator, Callable\n",
        "\n",
        "def repeat(f: Callable[[float], float], a: float) -> Iterator[float]:\n",
        "\tyield a\n",
        "\tyield from repeat(f, f(a))"
      ],
      "id": "82be8c05",
      "execution_count": null,
      "outputs": []
    },
    {
      "cell_type": "markdown",
      "metadata": {},
      "source": [
        "This function will generate a sequence of approximations using a function $f()$ and an initial approximation $a$.\n",
        "\n",
        " in python you need to be a little clever when taking items from an inifinte sequence one at a time.\n",
        " it works out well to use a simple interface function that wraps a slightly more complex recursion.\n"
      ],
      "id": "34cacec1"
    },
    {
      "cell_type": "code",
      "metadata": {},
      "source": [
        "from collections.abc import Iterator\n",
        "def within(𝜖: float, iterable: Iterator[float]) -> float:\n",
        "\tdef head_tail(𝜖: float, a: float, iterable: Iterator[float]) -> float:\n",
        "\t\tb = next(iterable)\n",
        "\t\tif abs(a - b) <= 𝜖:\n",
        "\t\t\treturn b\n",
        "\t\treturn head_tail(𝜖, b, iterable)\n",
        "\treturn head_tail(𝜖, next(iterable), iterable)"
      ],
      "id": "9acfb8e8",
      "execution_count": null,
      "outputs": []
    },
    {
      "cell_type": "markdown",
      "metadata": {},
      "source": [
        "Using the three functions, next_(), repeat(), and within(), to create a square root function as follows:\n"
      ],
      "id": "fdfe8987"
    },
    {
      "cell_type": "code",
      "metadata": {},
      "source": [
        "def sqrt(n: float) -> float:\n",
        "\treturn within(𝜖 = 0.0001, iterable = repeat(lambda x: next_(n, x), 1.0))"
      ],
      "id": "672690ef",
      "execution_count": null,
      "outputs": []
    },
    {
      "cell_type": "markdown",
      "metadata": {},
      "source": [
        "A more advanced version could use default param values to make changes possible. Exercise:\n",
        "the definition of `sqrt()` should be rewritten so an expression such as `sqrt(1.0, 0.000_01, 3)` will start with an approximation of 1.0 and compute the value of $\\sqrt{3}$ to within 0.000_01. For most applications, the initial a_{0} value can be 1.0. The closer it is to the actual square root, the more rapidly this algorithm converges.\n",
        "\n",
        "# Note:\n",
        "The within function done above was written to match the original articles definition. Pythons `itertools` lib provides a `takewhile()` function that might be better for this application than the `within()` function. Similarly the `math.isclose()` func may be better than $abs(a-b) <= \\epsilon$ used here. Python offers many pre-built functional programming features, check in Chapter 8 (itertools).\n",
        "\n",
        "## Histogram\n",
        "The objective of the exercise is to compute a histogram of the most popular ZIP codes in\n",
        "the source data file. The data must be cleansed to have the following two ZIP formats:\n",
        "•    Five characters with no post-office box, for example 03801\n",
        "•    Ten characters with a hyphen, for example 03899-9876\n"
      ],
      "id": "3e7481e6"
    },
    {
      "cell_type": "code",
      "metadata": {},
      "source": [
        "from collections import Counter\n",
        "import csv\n",
        "from pathlib import Path\n",
        "\n",
        "DEFAULT_PATH = Path.cwd() / \"address.csv\"\n",
        "\n",
        "def main(source_path: Path = DEFAULT_PATH) -> None:\n",
        "\tfreq: Counter[str] = Counter()\n",
        "\twith source_path.open() as source:\n",
        "\t\trdr = csv.DictReader(source)\n",
        "\t\tfor row in rdr:\n",
        "\t\t\tif \"-\" in row['ZIP']:\n",
        "\t\t\t\ttext_zip = row['ZIP']\n",
        "\t\t\t\tmissing_zeros = 10 - len(text_zip)\n",
        "\t\t\t\tif missing_zeros:\n",
        "\t\t\t\t\ttext_zip = missing_zeros * '0' + text_zip\n",
        "\t\t\telse:\n",
        "\t\t\t\ttext_zip = row['ZIP']\n",
        "\t\t\t\tif 5 < len(row['ZIP']) < 9:\n",
        "\t\t\t\t\tmissing_zeros = 9 - len(text_zip)\n",
        "\t\t\t\telse:\n",
        "\t\t\t\t\tmissing_zeros = 5 - len(text_zip)\n",
        "\t\t\t\tif missing_zeros:\n",
        "\t\t\t\t\ttext_zip = missing_zeros * '0' + text_zip\n",
        "\t\t\tfreq[text_zip] += 1\n",
        "\tprint(freq)\n",
        "\n",
        "if __name__ == \"__main__\":\n",
        "\tmain()"
      ],
      "id": "f5f48aa7",
      "execution_count": null,
      "outputs": []
    }
  ],
  "metadata": {
    "kernelspec": {
      "name": "elegant-scipy",
      "language": "python",
      "display_name": "elegant-scipy"
    }
  },
  "nbformat": 4,
  "nbformat_minor": 5
}