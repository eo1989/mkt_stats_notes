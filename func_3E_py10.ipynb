{
 "cells": [
  {
   "cell_type": "code",
   "execution_count": 1,
   "metadata": {},
   "outputs": [],
   "source": [
    "# Functional Python Programming - Use a functional approach to write succinct, expressive, & efficient Python(2022, 3E, Pact).pdf\n",
    "# p.4\n",
    "# Comparing & contrasting proceduarl and functional styles:\n",
    "\n",
    "# Procedural:\n",
    "# The sum computed by this fx include only numbers that are multiples of 3 or 5.\n",
    "# this fx is strictly procedural, avoiding explicit python object features.\n",
    "# Functions state is defined by the values of the variables s and n. \n",
    "# \tThe variable n takes on values such that 1 <= n < 10.\n",
    "# As the iteration involves an ordered exploration of values for the n variable,\n",
    "# \twe can prove that itll terminate when the value of n is equal to the value of limit.\n",
    "# There are two explicit assignment statements, both settings values for the s variable.\n",
    "# \tThese state changes are visible. The value of n is set implicitly by the fore statement.\n",
    "#\tThe state change in the s variable is an essential element of the state of the computation.\n",
    "def sum_numeric(limit: int = 10) -> int:\n",
    "\ts = 0\n",
    "\tfor i in range(1, limit):\n",
    "\t\tif n % 3 == 0 or n % 5 == 0:\n",
    "\t\t\ts += n\n",
    "\treturn s"
   ]
  },
  {
   "cell_type": "code",
   "execution_count": 2,
   "metadata": {},
   "outputs": [],
   "source": [
    "# Look at this from a purely functional perspective. Then examine more pythonic perspective that retains the essence\n",
    "# of a functional approach while leveraging a number of Pythons features.\n",
    "# The sum of the multples of 3 and 5 can be decomposed into two parts:\n",
    "# - The sum of a sequence of numbers.\n",
    "# - A sequence of values that pass a simple test condition, for example, being multiples of 3 and 5.\n",
    "# The sum of a sequence has a recursive definition.\n",
    "from collections.abc import Sequence\n",
    "def sumr(seq: Sequence[int]) -> int:\n",
    "\tif len(seq) == 0:\n",
    "\t\treturn 0\n",
    "\treturn seq[0] + sumr(seq[1:])"
   ]
  },
  {
   "cell_type": "code",
   "execution_count": 3,
   "metadata": {},
   "outputs": [
    {
     "data": {
      "text/plain": [
       "18"
      ]
     },
     "execution_count": 3,
     "metadata": {},
     "output_type": "execute_result"
    }
   ],
   "source": [
    "sumr([7, 11])"
   ]
  },
  {
   "cell_type": "code",
   "execution_count": 4,
   "metadata": {},
   "outputs": [
    {
     "data": {
      "text/plain": [
       "11"
      ]
     },
     "execution_count": 4,
     "metadata": {},
     "output_type": "execute_result"
    }
   ],
   "source": [
    "sumr([11])"
   ]
  },
  {
   "cell_type": "code",
   "execution_count": 5,
   "metadata": {},
   "outputs": [
    {
     "data": {
      "text/plain": [
       "0"
      ]
     },
     "execution_count": 5,
     "metadata": {},
     "output_type": "execute_result"
    }
   ],
   "source": [
    "sumr([])"
   ]
  },
  {
   "cell_type": "code",
   "execution_count": 7,
   "metadata": {},
   "outputs": [],
   "source": [
    "\"\"\"\n",
    "In this fx, compared a given value, v, against the upper bound, limit. If v has reached the upper bound, the resulting\n",
    "list must be empty. This is the base case for the given recursion.\n",
    "There are two more cases defined by an externally defined filter_func() fx. The value of v is passed to the filter_func() fx;\n",
    "if this returns a very small list, containing one element, this can be concatenated with any remaining values computed by the until fx.\n",
    "If the value of v is rejected by the filter_func() fx, the value is ignored and the result is simply defined by any remaining\n",
    "values computed by the until() function.\n",
    "\"\"\"\n",
    "from collections.abc import Sequence, Callable\n",
    "\n",
    "def until(limit: int, filter_func: Callable[[int], bool], v: int) ->list[int]:\n",
    "\tif v >= limit:\n",
    "\t\treturn []\n",
    "\telif filter_func(v):\n",
    "\t\treturn [v] + until(limit, filter_func, v + 1)\n",
    "\telse:\n",
    "\t\treturn until(limit, filter_func, v + 1)\n",
    "\n",
    "\"\"\"\n",
    "You can see that the value of v will increase from an initial val until it reaches limit, assuring\n",
    "us that we'll reach the base case.\n",
    "Before using the until() function, define a small fx to filter values that are multiples of 3 OR 5.\n",
    "\"\"\"\n",
    "\n",
    "\n",
    "def mult_3_5(x: int) -> bool:\n",
    "\treturn x % 3 == 0 or x % 5 == 0\n",
    "\n",
    "# couldve also been defined as a lambda object to emphasize succinct definitions of simple functions.\n",
    "\n",
    "# The fx can be combined ith until() to generate a sequence of values which are multiples of 3 and 5"
   ]
  },
  {
   "cell_type": "code",
   "execution_count": 8,
   "metadata": {},
   "outputs": [
    {
     "data": {
      "text/plain": [
       "[0, 3, 5, 6, 9]"
      ]
     },
     "execution_count": 8,
     "metadata": {},
     "output_type": "execute_result"
    }
   ],
   "source": [
    "until(10, mult_3_5, 0)"
   ]
  },
  {
   "cell_type": "code",
   "execution_count": 9,
   "metadata": {},
   "outputs": [],
   "source": [
    "# looking at the decomposition at the top (sumr) u can now compute sums and a way to compute the sequence of values.\n",
    "# combining sumr() and until() to compute a sum of values:\n",
    "\n",
    "def sum_functional(limit: int = 10) -> int:\n",
    "\treturn sumr(until(limit, mult_3_5, 0))"
   ]
  },
  {
   "cell_type": "code",
   "execution_count": 10,
   "metadata": {},
   "outputs": [
    {
     "data": {
      "text/plain": [
       "23"
      ]
     },
     "execution_count": 10,
     "metadata": {},
     "output_type": "execute_result"
    }
   ],
   "source": [
    "# Its a purely functional, recursive definition that matches the mathematical abstractions. making it easier to reason about.\n",
    "# functional hybrid\n",
    "\n",
    "def sum_hybrid(limit: int = 10) -> int:\t\n",
    "\treturn sum(\n",
    "\t\tn for n in range(1, limit)\n",
    "\t\tif n % 3 == 0 or n % 5 == 0\n",
    "\t)\n",
    "\n",
    "# generator expression to iterate through a collection of values and compute the sum of these values. \n",
    "# the range(1, 10) object is an iterable; it generates a sequence of values {n|1<= n < 10}.\n",
    "# the more complex expression n for n in range(1, 10) if n % 3 == 0 or n % 5 == 0 is also a generator.\n",
    "# it produces a set of values {n|1<= n < 10∧(𝑛 ≡ 0 mod 3∨𝑛 ≡ 0 mod 5)} \n",
    "# can be described as \"values of n such that n is less than or equal to n and n is less than 10 and n is equivalent to 0 modulo 3 or n is equivalent to 0 modulo 5\"\n",
    "# the variable n is bound, in turn, to each of the values provided by the range object. the sum fx consumes the iterable values, creating a final object, 23.\n",
    "# * The bound variable, n, doesnt exist outside the generator expression. The variable n isnt visible elsewhere in the program.\n",
    "# * a 'for' statement (outside the generator expression) creates a proper variable in the local namespace.\n",
    "# * the generator expression doesnt create a variable in the same way that a 'for' statement does:\n",
    "\n",
    "sum(n for n in range(1, 10) if n % 3 == 0 or n % 5 == 0)\n"
   ]
  },
  {
   "cell_type": "code",
   "execution_count": 12,
   "metadata": {},
   "outputs": [],
   "source": [
    "# n\n",
    "# returns NameError: name 'n' isnt defined.\n",
    "# * The generator expression doesnt pollute the namespace with variables, like n, which arent relevant\n",
    "# * outside the very narrow context of the expression. \n",
    "# * Ch 1, pg 10.\n",
    "# The functional programs in this book will rely on the following 3 stacks of abstractions:\n",
    "# * Applications will be functions - all the way down - until you hit the objects.\n",
    "# ** The underlying python runtime environment that supports the functional programming is objects - all the way down - until you hit the libraries.\n",
    "# *** The libraries that suppport python are a turtle on which Python stands."
   ]
  },
  {
   "cell_type": "code",
   "execution_count": 13,
   "metadata": {},
   "outputs": [
    {
     "data": {
      "text/plain": [
       "[1.0, 1.5, 1.4167, 1.4142]"
      ]
     },
     "execution_count": 13,
     "metadata": {},
     "output_type": "execute_result"
    }
   ],
   "source": [
    "# * Newton-Raphson algorithm for locating any roots of a function.\n",
    "# define function that will compute a square root of a number.\n",
    "# backbone of this approximation is the calculation of the next approximation from the current approximation.\n",
    "# the next_() function takes x, an approximation to the sqrt(n) value, and calculates the next value that brackets the proper root.\n",
    "# ex:\n",
    "def next_(n: float, x: float) -> float:\n",
    "    return (x + n / x) / 2\n",
    "\n",
    "# This fx computes a series of values that will quickly converge on some value x such that $x = n/x$, meaning x = sqrt(n)\n",
    "\n",
    "# * Note: the name next() woulve collided with the builtin function 'next'. Calling it next_() lets you\n",
    "# * follow the original presentation as closely as possible, using Pythonic names.\n",
    "n = 2\n",
    "f = lambda x: next_(n, x)\n",
    "a0 = 1.0\n",
    "[round(x, 4) for x in (a0, f(a0), f(f(a0)), f(f(f(a0))),)]"
   ]
  },
  {
   "attachments": {},
   "cell_type": "markdown",
   "metadata": {},
   "source": [
    "Defined the function f() as a lambda that will converge on $sqrt(n)$ where $n = 2$. Starting at\n",
    "1.0 as the initual value for a0. Then evaluated a sequence of recursive evaluations $a_{1} = f(a_{0})$, $a_{2} = f(a_{1})$, $a_{3} = f(a_{2})$, etc until the difference between successive values is less than 0.0001. The sequence converges on 1.41421.\n",
    "These functions evaluated these expressions using a generator expression so that you could round each value to 4 decimal places. This makes the output easier to read and easier to use with 'doctest'. The sequence appears to converge rapidly to $sqrt(2)$. To get a more precise answer, you must continue to perform the series of steps after the first four.\n",
    "This is a function that will (in principle) generate an infinite sequence of $a_{i}$ values. This series will converge\n",
    "on the proper square root:\n"
   ]
  },
  {
   "cell_type": "code",
   "execution_count": 14,
   "metadata": {},
   "outputs": [
    {
     "data": {
      "text/plain": [
       "'\\nThis function will generate a sequence of approximations using a function $f()$ and an initial approximation $a$.\\n'"
      ]
     },
     "execution_count": 14,
     "metadata": {},
     "output_type": "execute_result"
    }
   ],
   "source": [
    "from collections.abc import Iterator, Callable\n",
    "\n",
    "def repeat(f: Callable[[float], float], a: float) -> Iterator[float]:\n",
    "\tyield a\n",
    "\tyield from repeat(f, f(a))\n",
    "\n",
    "\"\"\"\n",
    "This function will generate a sequence of approximations using a function $f()$ and an initial approximation $a$.\n",
    "\"\"\""
   ]
  },
  {
   "cell_type": "code",
   "execution_count": 16,
   "metadata": {},
   "outputs": [],
   "source": [
    "# in python you need to be a little clever when taking items from an inifinte sequence one at a time.\n",
    "# it works out well to use a simple interface function that wraps a slightly more complex recursion.\n",
    "\n",
    "from collections.abc import Iterator\n",
    "def within(𝜖: float, iterable: Iterator[float]) -> float:\n",
    "\tdef head_tail(𝜖: float, a: float, iterable: Iterator[float]) -> float:\n",
    "\t\tb = next(iterable)\n",
    "\t\tif abs(a - b) <= 𝜖:\n",
    "\t\t\treturn b\n",
    "\t\treturn head_tail(𝜖, b, iterable)\n",
    "\treturn head_tail(𝜖, next(iterable), iterable)\n"
   ]
  },
  {
   "cell_type": "markdown",
   "metadata": {},
   "source": []
  }
 ],
 "metadata": {
  "kernelspec": {
   "display_name": "Python 3",
   "language": "python",
   "name": "python3"
  },
  "language_info": {
   "codemirror_mode": {
    "name": "ipython",
    "version": 3
   },
   "file_extension": ".py",
   "mimetype": "text/x-python",
   "name": "python",
   "nbconvert_exporter": "python",
   "pygments_lexer": "ipython3",
   "version": "3.10.8"
  },
  "orig_nbformat": 4,
  "vscode": {
   "interpreter": {
    "hash": "369f2c481f4da34e4445cda3fffd2e751bd1c4d706f27375911949ba6bb62e1c"
   }
  }
 },
 "nbformat": 4,
 "nbformat_minor": 2
}
