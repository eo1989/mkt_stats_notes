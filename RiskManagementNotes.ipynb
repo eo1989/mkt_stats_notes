{
 "cells": [
  {
   "cell_type": "raw",
   "metadata": {},
   "source": [
    "---\n",
    "title: \"Risk Management\"\n",
    "format: \n",
    "\thtml:\n",
    "\t\tcode-fold: true\n",
    "jupyter: python\n",
    "#  kernelspec:\n",
    "#\t\tname: \"python\"\n",
    "#\t\tlanguage: \"python\"\n",
    "#\t\tdisplay_name: \"Python 3.11.1\"\n",
    "execute:\n",
    "\tenabled: true\n",
    "---"
   ]
  },
  {
   "cell_type": "code",
   "execution_count": 3,
   "metadata": {},
   "outputs": [],
   "source": [
    "import statsmodels.api as sm\n",
    "import numpy as np\n",
    "import plotly.graph_objs as go\n",
    "import matplotlib.pyplot as plt\n",
    "import plotly.io as pio\n",
    "import plotly\n",
    "import warnings\n",
    "\n",
    "pio.renderers.default = \"plotly_mimetype+notebook_connected\"\n",
    "warnings.filterwarnings('ignore')"
   ]
  },
  {
   "cell_type": "code",
   "execution_count": 4,
   "metadata": {},
   "outputs": [],
   "source": [
    "n_assets = 5\n",
    "n_sim = 500\n",
    "\n",
    "returns = np.random.randn(n_assets, n_sim)\n",
    "\n",
    "rand = np.random.rand(n_assets)\n",
    "weights = rand/sum(rand)"
   ]
  },
  {
   "cell_type": "markdown",
   "metadata": {},
   "source": [
    "### <center> Returns </center>\n",
    "\n",
    "Markowitz (1952) proposed an intuitive and appealing solution to the long-standing issue of ambiguity in portfolio selection. He suggested that investors should choose portfolios that maximize expected return for a given level of risk, or equivalently, minimize risk for a given level of expected return. The set of portfolios that satisfy this condition is called the efficient frontier. The efficient frontier is a parabola when the risk-free rate is positive, and a straight line when the risk-free rate is zero. The efficient frontier is the set of portfolios that have the minimum variance for a given level of expected return. The efficient frontier is the set of portfolios that have the maximum expected return for a given level of variance. The efficient frontier is the set of portfolios that have the maximum expected return for a given level of variance. The efficient frontier is the set of portfolios that have the maximum expected return for a given level of variance. The efficient frontier is the set of portfolios that have the maximum expected return for a given level of variance. The efficient frontier is the set of portfolios that have the maximum expected return for a given level of variance. The efficient frontier is the set of portfolios that have the maximum expected return for a given level of variance. The efficient frontier is the set of portfolios that have the maximum expected return for a given level of variance. The efficient frontier is the set of portfolios that have the maximum expected return for a given level of variance. The efficient frontier is the set of portfolios that have the maximum expected return for a given level of variance. The efficient frontier is the set of portfolios that have the maximum expected return for a given level of variance. The efficient frontier is the set of portfolios that have the maximum expected return for a given level of variance.\n",
    "\n",
    "$$ \\sigma = \\sqrt{\\mathbb{E}(R^2) - [\\mathbb{E}(R)]^2} $$\n",
    "\n",
    "where R and $\\mathbb{E}$ refer to annual return and expectation, respectively. $\\mathbb{E}$ as the expected return represents the return of interest. This is because it is probabiliity we are talking about in defining risk. When it comes to portfolio variance, covariance comes into the picture, and the formula is:\n",
    "\n",
    "$$ \\sigma_{p}^2 = w_{a}^2\\sigma_{a}^2 + w_{b}^2\\sigma_{b}^2 + 2w_{a}w_{b}Cov(r_{a}, r_{b}) $$\n",
    "\n",
    "where w is the weight and $\\sigma^2$ is variance, and Cov is covariance matrix.\n",
    "\n",
    "Taking the square root of the variance obtained produces the portfolio standard deviation:\n",
    "\n",
    "$$ \\sigma_{p} = \\sqrt{\\sigma_{p}^2} $$\n",
    "\n",
    "In other words, portfolio expected return is a weighted average of the individual returns and can be shown as:\n",
    "\n",
    "$$ \\mathbb{E}(R) = \\Sigma_{i}^{n}w_{i}R_{i} = w_{1}R_{1} + w_{2}R_{2} + ... + w_{n}R_{n} $$\n",
    "\n",
    "where n is the number of assets in the portfolio, $w_{i}$ is the weight of the ith asset, and $R_{i}$ is the return of the ith asset.\n"
   ]
  },
  {
   "cell_type": "code",
   "execution_count": 5,
   "metadata": {},
   "outputs": [],
   "source": [
    "def port_return(returns):\n",
    "\trets = np.mean(returns, axis = 1)\n",
    "\tcov = np.cov(rets.T, aweights=weights, ddof=1)\n",
    "\tportfolio_returns = np.dot(weights, rets.T)\n",
    "\tportfolio_std_dev = np.sqrt(np.dot(weights, np.dot(cov, weights)))\n",
    "\treturn portfolio_returns, portfolio_std_dev"
   ]
  },
  {
   "cell_type": "code",
   "execution_count": 7,
   "metadata": {},
   "outputs": [],
   "source": [
    "portfolio_returns, portfolio_std_dev = port_return(returns)"
   ]
  },
  {
   "cell_type": "code",
   "execution_count": 8,
   "metadata": {},
   "outputs": [
    {
     "name": "stdout",
     "output_type": "stream",
     "text": [
      "-0.006304772940002163\n",
      "0.009870932222301806\n"
     ]
    }
   ],
   "source": [
    "print(portfolio_returns)\n",
    "print(portfolio_std_dev)"
   ]
  },
  {
   "cell_type": "code",
   "execution_count": 9,
   "metadata": {},
   "outputs": [],
   "source": [
    "portfolio = np.array([port_return(np.random.randn(n_assets, i)) for i in range(1, 101)])"
   ]
  },
  {
   "cell_type": "code",
   "execution_count": 11,
   "metadata": {},
   "outputs": [],
   "source": [
    "best_fit = sm.OLS(portfolio[:, 1], sm.add_constant(portfolio[:, 0])).fit().fittedvalues"
   ]
  },
  {
   "cell_type": "code",
   "execution_count": 12,
   "metadata": {},
   "outputs": [
    {
     "data": {
      "text/html": [
       "        <script type=\"text/javascript\">\n",
       "        window.PlotlyConfig = {MathJaxConfig: 'local'};\n",
       "        if (window.MathJax && window.MathJax.Hub && window.MathJax.Hub.Config) {window.MathJax.Hub.Config({SVG: {font: \"STIX-Web\"}});}\n",
       "        if (typeof require !== 'undefined') {\n",
       "        require.undef(\"plotly\");\n",
       "        requirejs.config({\n",
       "            paths: {\n",
       "                'plotly': ['https://cdn.plot.ly/plotly-2.24.1.min']\n",
       "            }\n",
       "        });\n",
       "        require(['plotly'], function(Plotly) {\n",
       "            window._Plotly = Plotly;\n",
       "        });\n",
       "        }\n",
       "        </script>\n",
       "        "
      ]
     },
     "metadata": {},
     "output_type": "display_data"
    },
    {
     "data": {
      "application/vnd.plotly.v1+json": {
       "config": {
        "plotlyServerURL": "https://plot.ly"
       },
       "data": [
        {
         "mode": "markers",
         "name": "Risk-Return Relationship",
         "type": "scatter",
         "x": [
          0.2637384238365615,
          -0.3478991711436275,
          0.6948670759779519,
          0.09865544290770953,
          -0.1450797147207676,
          -0.09849965496134093,
          0.12903634941849781,
          -0.1807315729238099,
          0.06599754613340089,
          0.1695231473465466,
          -0.14742609598407197,
          -0.2268251668783991,
          0.036182086902535826,
          -0.06675579228600634,
          0.1636862652773367,
          0.059267562060374465,
          0.07178222954217173,
          -0.14413439281578383,
          -0.028004362077142617,
          0.04831879643679465,
          0.11328513300516238,
          -0.09347259477732518,
          -0.05385326298997353,
          0.0023904151984897037,
          0.03595135505564994,
          0.06361381379592708,
          0.1489479578797699,
          0.06764032109866075,
          0.07217981314534952,
          -0.11684701849238067,
          0.016034997345387256,
          0.1845261401177442,
          -0.03908349685253494,
          0.10809503724730128,
          0.12964898542032716,
          -0.0376959285994098,
          -0.06688120208558164,
          -0.009638515046387915,
          0.024410473963636044,
          -0.055749372498939354,
          -0.0028832394218524238,
          0.11709389883400811,
          -0.028450037823640403,
          -0.03781802495464775,
          -0.10171097151010128,
          0.0026138645884683093,
          0.05079812709657589,
          0.08412730581588256,
          -0.12296792207528098,
          0.060101398044424735,
          0.0013611859644334888,
          0.0627256114580475,
          0.03655097614158277,
          -0.0029320956196828875,
          0.06143449852177659,
          -0.09457209257055224,
          -0.047765803356106876,
          0.022780757777340253,
          -0.04805746444687987,
          0.03228184258834372,
          -0.013573131661911467,
          0.00911961619731214,
          -0.0742134260360159,
          -0.12958218211994735,
          0.06769153129716302,
          -0.0731488475657451,
          -0.07777265757955348,
          0.038113060267923424,
          -0.10429615409320835,
          0.03587146251355293,
          0.025360753110584923,
          0.022366764618147503,
          0.029790500235596092,
          -0.0985937994950819,
          -0.06006733642885497,
          0.0866186090256171,
          0.054553366715825405,
          -0.007779303801451656,
          0.018285502014438064,
          0.040625783874161936,
          -0.03515529148930181,
          0.10060464606643635,
          -0.022260925242348968,
          0.06322837959411845,
          0.02773345220754225,
          0.11273108703934448,
          0.09091782496291984,
          -0.03903968440976134,
          0.045224128081534476,
          0.015890299978226698,
          0.11378862324320485,
          -0.008337987556521265,
          -0.13778243346636007,
          -0.05153115794674449,
          0.059395704134571084,
          0.07564173839259453,
          0.08330440441351836,
          0.017879892339816288,
          0.026277506112711145,
          -0.07911159343198115
         ],
         "y": [
          0.20000208752351015,
          0.5521085742314583,
          0.19953886652612685,
          0.056687835099195,
          0.14507283141729124,
          0.26175671448416266,
          0.23556661057048495,
          0.10573175569486694,
          0.16097017319823453,
          0.29994167082877166,
          0.21907436500291003,
          0.192607334920563,
          0.15073499981594407,
          0.04385565820920015,
          0.0609272399554669,
          0.09916433582451008,
          0.06359367030475431,
          0.03781121761882219,
          0.04987445434194623,
          0.09920213110176998,
          0.058018734420960394,
          0.08396016844744121,
          0.1067785525408353,
          0.09892741069343543,
          0.07109055362488796,
          0.05938331173018295,
          0.19228203033528316,
          0.1125624625816117,
          0.09546579248811442,
          0.1336805256538131,
          0.09761564342916418,
          0.03396905531073494,
          0.11261511879021381,
          0.07769288058879129,
          0.038074745490909445,
          0.0976837982355268,
          0.08003588640905356,
          0.08686333869296216,
          0.06419725982143026,
          0.054691084151482994,
          0.06927848844217287,
          0.08640764754600794,
          0.08193241782579878,
          0.07588741808717615,
          0.061040086300721635,
          0.037050308896494466,
          0.026946694970835634,
          0.059081065254518395,
          0.022304668407795984,
          0.05153222454345759,
          0.046233431976175035,
          0.07329346072247177,
          0.06371124470370565,
          0.051965942515594776,
          0.05429817641614236,
          0.027183432495936077,
          0.07557091183850247,
          0.07877686107738999,
          0.07807897100825532,
          0.03735909120878168,
          0.02178122418919729,
          0.08426870203403845,
          0.04220001277575834,
          0.037887400876735595,
          0.057529621520113566,
          0.045918697805437385,
          0.07778048796640528,
          0.07982197018758769,
          0.05089961520283214,
          0.03100610969105445,
          0.05978161035009762,
          0.02873172268342991,
          0.06576692240402313,
          0.07882588820706377,
          0.10977554182289602,
          0.0799572614813164,
          0.06936359054043398,
          0.05203483750103815,
          0.08586812738809062,
          0.041282889715591214,
          0.06729918633604576,
          0.03374338482879033,
          0.058324546087215635,
          0.018032604745464868,
          0.06520784063445932,
          0.06637514380636367,
          0.04847882552784497,
          0.014347410974653542,
          0.029958307514734498,
          0.019867055566470438,
          0.04019497709903303,
          0.05510649050479559,
          0.0678312040882634,
          0.05527732437560692,
          0.0233515855823142,
          0.04745429983797292,
          0.032817275157166044,
          0.04251673864749317,
          0.04796334540469935,
          0.037122205896196914
         ]
        },
        {
         "mode": "lines",
         "name": "Best Fit Line",
         "type": "scatter",
         "x": [
          0.2637384238365615,
          -0.3478991711436275,
          0.6948670759779519,
          0.09865544290770953,
          -0.1450797147207676,
          -0.09849965496134093,
          0.12903634941849781,
          -0.1807315729238099,
          0.06599754613340089,
          0.1695231473465466,
          -0.14742609598407197,
          -0.2268251668783991,
          0.036182086902535826,
          -0.06675579228600634,
          0.1636862652773367,
          0.059267562060374465,
          0.07178222954217173,
          -0.14413439281578383,
          -0.028004362077142617,
          0.04831879643679465,
          0.11328513300516238,
          -0.09347259477732518,
          -0.05385326298997353,
          0.0023904151984897037,
          0.03595135505564994,
          0.06361381379592708,
          0.1489479578797699,
          0.06764032109866075,
          0.07217981314534952,
          -0.11684701849238067,
          0.016034997345387256,
          0.1845261401177442,
          -0.03908349685253494,
          0.10809503724730128,
          0.12964898542032716,
          -0.0376959285994098,
          -0.06688120208558164,
          -0.009638515046387915,
          0.024410473963636044,
          -0.055749372498939354,
          -0.0028832394218524238,
          0.11709389883400811,
          -0.028450037823640403,
          -0.03781802495464775,
          -0.10171097151010128,
          0.0026138645884683093,
          0.05079812709657589,
          0.08412730581588256,
          -0.12296792207528098,
          0.060101398044424735,
          0.0013611859644334888,
          0.0627256114580475,
          0.03655097614158277,
          -0.0029320956196828875,
          0.06143449852177659,
          -0.09457209257055224,
          -0.047765803356106876,
          0.022780757777340253,
          -0.04805746444687987,
          0.03228184258834372,
          -0.013573131661911467,
          0.00911961619731214,
          -0.0742134260360159,
          -0.12958218211994735,
          0.06769153129716302,
          -0.0731488475657451,
          -0.07777265757955348,
          0.038113060267923424,
          -0.10429615409320835,
          0.03587146251355293,
          0.025360753110584923,
          0.022366764618147503,
          0.029790500235596092,
          -0.0985937994950819,
          -0.06006733642885497,
          0.0866186090256171,
          0.054553366715825405,
          -0.007779303801451656,
          0.018285502014438064,
          0.040625783874161936,
          -0.03515529148930181,
          0.10060464606643635,
          -0.022260925242348968,
          0.06322837959411845,
          0.02773345220754225,
          0.11273108703934448,
          0.09091782496291984,
          -0.03903968440976134,
          0.045224128081534476,
          0.015890299978226698,
          0.11378862324320485,
          -0.008337987556521265,
          -0.13778243346636007,
          -0.05153115794674449,
          0.059395704134571084,
          0.07564173839259453,
          0.08330440441351836,
          0.017879892339816288,
          0.026277506112711145,
          -0.07911159343198115
         ],
         "y": [
          0.06729260592200134,
          0.10350403393318414,
          0.041768039939294066,
          0.07706618839769958,
          0.09149629895122721,
          0.08873857036394227,
          0.0752675154285118,
          0.09360703365324659,
          0.07899966843186558,
          0.07287053267171718,
          0.09163521424502252,
          0.09633596149051821,
          0.08076486462716126,
          0.08685920485812836,
          0.07321609977974591,
          0.07939811080325823,
          0.07865719169638798,
          0.09144033205777485,
          0.0845649629134616,
          0.08004632216476294,
          0.07620005136796551,
          0.08844094799825485,
          0.08609532275768193,
          0.08276546873869928,
          0.08077852488894367,
          0.07914079506084457,
          0.0740886673944802,
          0.07890240948656643,
          0.07863365313344964,
          0.08982480874946984,
          0.0819576540977908,
          0.07198229460861363,
          0.085220892657869,
          0.07650732610131969,
          0.07523124489076302,
          0.08513874298570853,
          0.08686662962725061,
          0.0834776302297339,
          0.08146179188933565,
          0.0862075801361504,
          0.08307769049584379,
          0.07597455697266567,
          0.08459134872647095,
          0.08514597158547808,
          0.0889286933370573,
          0.0827522396279223,
          0.07989953572710864,
          0.07792631307733822,
          0.09018719108383692,
          0.07934874432880117,
          0.08282640328657846,
          0.07919338024409925,
          0.08074302488703822,
          0.0830805829810428,
          0.07926981937002903,
          0.08850604273002846,
          0.08573492044083304,
          0.08155827770191985,
          0.0857521879611406,
          0.08099577492006758,
          0.08371057550238224,
          0.08236707272847768,
          0.08730072704363265,
          0.09057878212307387,
          0.07889937763497372,
          0.08723769967750138,
          0.08751144799648401,
          0.0806505431668944,
          0.08908174663818241,
          0.08078325485168716,
          0.08140553150703954,
          0.08158278777717401,
          0.08114327249869607,
          0.08874414410243413,
          0.08646322112566165,
          0.07777881781613497,
          0.07967721030065802,
          0.08336755737825104,
          0.08182441508749941,
          0.08050177973128143,
          0.08498832695737693,
          0.0769507876596797,
          0.08422492814256653,
          0.07916361432991237,
          0.08126505809067858,
          0.07623285313778927,
          0.07752428678387686,
          0.08521829878343991,
          0.08022953909139516,
          0.08196622076919448,
          0.0761702427024112,
          0.0834006337240214,
          0.09106427028426815,
          0.08595784471464238,
          0.07939052427238921,
          0.07842869310826549,
          0.07797503218018044,
          0.08184842882644179,
          0.0813512560085859,
          0.08759071843314405
         ]
        }
       ],
       "layout": {
        "height": 470,
        "template": {
         "data": {
          "bar": [
           {
            "error_x": {
             "color": "#2a3f5f"
            },
            "error_y": {
             "color": "#2a3f5f"
            },
            "marker": {
             "line": {
              "color": "#E5ECF6",
              "width": 0.5
             },
             "pattern": {
              "fillmode": "overlay",
              "size": 10,
              "solidity": 0.2
             }
            },
            "type": "bar"
           }
          ],
          "barpolar": [
           {
            "marker": {
             "line": {
              "color": "#E5ECF6",
              "width": 0.5
             },
             "pattern": {
              "fillmode": "overlay",
              "size": 10,
              "solidity": 0.2
             }
            },
            "type": "barpolar"
           }
          ],
          "carpet": [
           {
            "aaxis": {
             "endlinecolor": "#2a3f5f",
             "gridcolor": "white",
             "linecolor": "white",
             "minorgridcolor": "white",
             "startlinecolor": "#2a3f5f"
            },
            "baxis": {
             "endlinecolor": "#2a3f5f",
             "gridcolor": "white",
             "linecolor": "white",
             "minorgridcolor": "white",
             "startlinecolor": "#2a3f5f"
            },
            "type": "carpet"
           }
          ],
          "choropleth": [
           {
            "colorbar": {
             "outlinewidth": 0,
             "ticks": ""
            },
            "type": "choropleth"
           }
          ],
          "contour": [
           {
            "colorbar": {
             "outlinewidth": 0,
             "ticks": ""
            },
            "colorscale": [
             [
              0,
              "#0d0887"
             ],
             [
              0.1111111111111111,
              "#46039f"
             ],
             [
              0.2222222222222222,
              "#7201a8"
             ],
             [
              0.3333333333333333,
              "#9c179e"
             ],
             [
              0.4444444444444444,
              "#bd3786"
             ],
             [
              0.5555555555555556,
              "#d8576b"
             ],
             [
              0.6666666666666666,
              "#ed7953"
             ],
             [
              0.7777777777777778,
              "#fb9f3a"
             ],
             [
              0.8888888888888888,
              "#fdca26"
             ],
             [
              1,
              "#f0f921"
             ]
            ],
            "type": "contour"
           }
          ],
          "contourcarpet": [
           {
            "colorbar": {
             "outlinewidth": 0,
             "ticks": ""
            },
            "type": "contourcarpet"
           }
          ],
          "heatmap": [
           {
            "colorbar": {
             "outlinewidth": 0,
             "ticks": ""
            },
            "colorscale": [
             [
              0,
              "#0d0887"
             ],
             [
              0.1111111111111111,
              "#46039f"
             ],
             [
              0.2222222222222222,
              "#7201a8"
             ],
             [
              0.3333333333333333,
              "#9c179e"
             ],
             [
              0.4444444444444444,
              "#bd3786"
             ],
             [
              0.5555555555555556,
              "#d8576b"
             ],
             [
              0.6666666666666666,
              "#ed7953"
             ],
             [
              0.7777777777777778,
              "#fb9f3a"
             ],
             [
              0.8888888888888888,
              "#fdca26"
             ],
             [
              1,
              "#f0f921"
             ]
            ],
            "type": "heatmap"
           }
          ],
          "heatmapgl": [
           {
            "colorbar": {
             "outlinewidth": 0,
             "ticks": ""
            },
            "colorscale": [
             [
              0,
              "#0d0887"
             ],
             [
              0.1111111111111111,
              "#46039f"
             ],
             [
              0.2222222222222222,
              "#7201a8"
             ],
             [
              0.3333333333333333,
              "#9c179e"
             ],
             [
              0.4444444444444444,
              "#bd3786"
             ],
             [
              0.5555555555555556,
              "#d8576b"
             ],
             [
              0.6666666666666666,
              "#ed7953"
             ],
             [
              0.7777777777777778,
              "#fb9f3a"
             ],
             [
              0.8888888888888888,
              "#fdca26"
             ],
             [
              1,
              "#f0f921"
             ]
            ],
            "type": "heatmapgl"
           }
          ],
          "histogram": [
           {
            "marker": {
             "pattern": {
              "fillmode": "overlay",
              "size": 10,
              "solidity": 0.2
             }
            },
            "type": "histogram"
           }
          ],
          "histogram2d": [
           {
            "colorbar": {
             "outlinewidth": 0,
             "ticks": ""
            },
            "colorscale": [
             [
              0,
              "#0d0887"
             ],
             [
              0.1111111111111111,
              "#46039f"
             ],
             [
              0.2222222222222222,
              "#7201a8"
             ],
             [
              0.3333333333333333,
              "#9c179e"
             ],
             [
              0.4444444444444444,
              "#bd3786"
             ],
             [
              0.5555555555555556,
              "#d8576b"
             ],
             [
              0.6666666666666666,
              "#ed7953"
             ],
             [
              0.7777777777777778,
              "#fb9f3a"
             ],
             [
              0.8888888888888888,
              "#fdca26"
             ],
             [
              1,
              "#f0f921"
             ]
            ],
            "type": "histogram2d"
           }
          ],
          "histogram2dcontour": [
           {
            "colorbar": {
             "outlinewidth": 0,
             "ticks": ""
            },
            "colorscale": [
             [
              0,
              "#0d0887"
             ],
             [
              0.1111111111111111,
              "#46039f"
             ],
             [
              0.2222222222222222,
              "#7201a8"
             ],
             [
              0.3333333333333333,
              "#9c179e"
             ],
             [
              0.4444444444444444,
              "#bd3786"
             ],
             [
              0.5555555555555556,
              "#d8576b"
             ],
             [
              0.6666666666666666,
              "#ed7953"
             ],
             [
              0.7777777777777778,
              "#fb9f3a"
             ],
             [
              0.8888888888888888,
              "#fdca26"
             ],
             [
              1,
              "#f0f921"
             ]
            ],
            "type": "histogram2dcontour"
           }
          ],
          "mesh3d": [
           {
            "colorbar": {
             "outlinewidth": 0,
             "ticks": ""
            },
            "type": "mesh3d"
           }
          ],
          "parcoords": [
           {
            "line": {
             "colorbar": {
              "outlinewidth": 0,
              "ticks": ""
             }
            },
            "type": "parcoords"
           }
          ],
          "pie": [
           {
            "automargin": true,
            "type": "pie"
           }
          ],
          "scatter": [
           {
            "fillpattern": {
             "fillmode": "overlay",
             "size": 10,
             "solidity": 0.2
            },
            "type": "scatter"
           }
          ],
          "scatter3d": [
           {
            "line": {
             "colorbar": {
              "outlinewidth": 0,
              "ticks": ""
             }
            },
            "marker": {
             "colorbar": {
              "outlinewidth": 0,
              "ticks": ""
             }
            },
            "type": "scatter3d"
           }
          ],
          "scattercarpet": [
           {
            "marker": {
             "colorbar": {
              "outlinewidth": 0,
              "ticks": ""
             }
            },
            "type": "scattercarpet"
           }
          ],
          "scattergeo": [
           {
            "marker": {
             "colorbar": {
              "outlinewidth": 0,
              "ticks": ""
             }
            },
            "type": "scattergeo"
           }
          ],
          "scattergl": [
           {
            "marker": {
             "colorbar": {
              "outlinewidth": 0,
              "ticks": ""
             }
            },
            "type": "scattergl"
           }
          ],
          "scattermapbox": [
           {
            "marker": {
             "colorbar": {
              "outlinewidth": 0,
              "ticks": ""
             }
            },
            "type": "scattermapbox"
           }
          ],
          "scatterpolar": [
           {
            "marker": {
             "colorbar": {
              "outlinewidth": 0,
              "ticks": ""
             }
            },
            "type": "scatterpolar"
           }
          ],
          "scatterpolargl": [
           {
            "marker": {
             "colorbar": {
              "outlinewidth": 0,
              "ticks": ""
             }
            },
            "type": "scatterpolargl"
           }
          ],
          "scatterternary": [
           {
            "marker": {
             "colorbar": {
              "outlinewidth": 0,
              "ticks": ""
             }
            },
            "type": "scatterternary"
           }
          ],
          "surface": [
           {
            "colorbar": {
             "outlinewidth": 0,
             "ticks": ""
            },
            "colorscale": [
             [
              0,
              "#0d0887"
             ],
             [
              0.1111111111111111,
              "#46039f"
             ],
             [
              0.2222222222222222,
              "#7201a8"
             ],
             [
              0.3333333333333333,
              "#9c179e"
             ],
             [
              0.4444444444444444,
              "#bd3786"
             ],
             [
              0.5555555555555556,
              "#d8576b"
             ],
             [
              0.6666666666666666,
              "#ed7953"
             ],
             [
              0.7777777777777778,
              "#fb9f3a"
             ],
             [
              0.8888888888888888,
              "#fdca26"
             ],
             [
              1,
              "#f0f921"
             ]
            ],
            "type": "surface"
           }
          ],
          "table": [
           {
            "cells": {
             "fill": {
              "color": "#EBF0F8"
             },
             "line": {
              "color": "white"
             }
            },
            "header": {
             "fill": {
              "color": "#C8D4E3"
             },
             "line": {
              "color": "white"
             }
            },
            "type": "table"
           }
          ]
         },
         "layout": {
          "annotationdefaults": {
           "arrowcolor": "#2a3f5f",
           "arrowhead": 0,
           "arrowwidth": 1
          },
          "autotypenumbers": "strict",
          "coloraxis": {
           "colorbar": {
            "outlinewidth": 0,
            "ticks": ""
           }
          },
          "colorscale": {
           "diverging": [
            [
             0,
             "#8e0152"
            ],
            [
             0.1,
             "#c51b7d"
            ],
            [
             0.2,
             "#de77ae"
            ],
            [
             0.3,
             "#f1b6da"
            ],
            [
             0.4,
             "#fde0ef"
            ],
            [
             0.5,
             "#f7f7f7"
            ],
            [
             0.6,
             "#e6f5d0"
            ],
            [
             0.7,
             "#b8e186"
            ],
            [
             0.8,
             "#7fbc41"
            ],
            [
             0.9,
             "#4d9221"
            ],
            [
             1,
             "#276419"
            ]
           ],
           "sequential": [
            [
             0,
             "#0d0887"
            ],
            [
             0.1111111111111111,
             "#46039f"
            ],
            [
             0.2222222222222222,
             "#7201a8"
            ],
            [
             0.3333333333333333,
             "#9c179e"
            ],
            [
             0.4444444444444444,
             "#bd3786"
            ],
            [
             0.5555555555555556,
             "#d8576b"
            ],
            [
             0.6666666666666666,
             "#ed7953"
            ],
            [
             0.7777777777777778,
             "#fb9f3a"
            ],
            [
             0.8888888888888888,
             "#fdca26"
            ],
            [
             1,
             "#f0f921"
            ]
           ],
           "sequentialminus": [
            [
             0,
             "#0d0887"
            ],
            [
             0.1111111111111111,
             "#46039f"
            ],
            [
             0.2222222222222222,
             "#7201a8"
            ],
            [
             0.3333333333333333,
             "#9c179e"
            ],
            [
             0.4444444444444444,
             "#bd3786"
            ],
            [
             0.5555555555555556,
             "#d8576b"
            ],
            [
             0.6666666666666666,
             "#ed7953"
            ],
            [
             0.7777777777777778,
             "#fb9f3a"
            ],
            [
             0.8888888888888888,
             "#fdca26"
            ],
            [
             1,
             "#f0f921"
            ]
           ]
          },
          "colorway": [
           "#636efa",
           "#EF553B",
           "#00cc96",
           "#ab63fa",
           "#FFA15A",
           "#19d3f3",
           "#FF6692",
           "#B6E880",
           "#FF97FF",
           "#FECB52"
          ],
          "font": {
           "color": "#2a3f5f"
          },
          "geo": {
           "bgcolor": "white",
           "lakecolor": "white",
           "landcolor": "#E5ECF6",
           "showlakes": true,
           "showland": true,
           "subunitcolor": "white"
          },
          "hoverlabel": {
           "align": "left"
          },
          "hovermode": "closest",
          "mapbox": {
           "style": "light"
          },
          "paper_bgcolor": "white",
          "plot_bgcolor": "#E5ECF6",
          "polar": {
           "angularaxis": {
            "gridcolor": "white",
            "linecolor": "white",
            "ticks": ""
           },
           "bgcolor": "#E5ECF6",
           "radialaxis": {
            "gridcolor": "white",
            "linecolor": "white",
            "ticks": ""
           }
          },
          "scene": {
           "xaxis": {
            "backgroundcolor": "#E5ECF6",
            "gridcolor": "white",
            "gridwidth": 2,
            "linecolor": "white",
            "showbackground": true,
            "ticks": "",
            "zerolinecolor": "white"
           },
           "yaxis": {
            "backgroundcolor": "#E5ECF6",
            "gridcolor": "white",
            "gridwidth": 2,
            "linecolor": "white",
            "showbackground": true,
            "ticks": "",
            "zerolinecolor": "white"
           },
           "zaxis": {
            "backgroundcolor": "#E5ECF6",
            "gridcolor": "white",
            "gridwidth": 2,
            "linecolor": "white",
            "showbackground": true,
            "ticks": "",
            "zerolinecolor": "white"
           }
          },
          "shapedefaults": {
           "line": {
            "color": "#2a3f5f"
           }
          },
          "ternary": {
           "aaxis": {
            "gridcolor": "white",
            "linecolor": "white",
            "ticks": ""
           },
           "baxis": {
            "gridcolor": "white",
            "linecolor": "white",
            "ticks": ""
           },
           "bgcolor": "#E5ECF6",
           "caxis": {
            "gridcolor": "white",
            "linecolor": "white",
            "ticks": ""
           }
          },
          "title": {
           "x": 0.05
          },
          "xaxis": {
           "automargin": true,
           "gridcolor": "white",
           "linecolor": "white",
           "ticks": "",
           "title": {
            "standoff": 15
           },
           "zerolinecolor": "white",
           "zerolinewidth": 2
          },
          "yaxis": {
           "automargin": true,
           "gridcolor": "white",
           "linecolor": "white",
           "ticks": "",
           "title": {
            "standoff": 15
           },
           "zerolinecolor": "white",
           "zerolinewidth": 2
          }
         }
        },
        "width": 900,
        "xaxis": {
         "title": {
          "text": "Return"
         }
        },
        "yaxis": {
         "title": {
          "text": "Standard Deviation"
         }
        }
       }
      },
      "text/html": [
       "<div>                            <div id=\"31437287-8714-43ef-989a-9a05fadf2891\" class=\"plotly-graph-div\" style=\"height:470px; width:900px;\"></div>            <script type=\"text/javascript\">                require([\"plotly\"], function(Plotly) {                    window.PLOTLYENV=window.PLOTLYENV || {};                                    if (document.getElementById(\"31437287-8714-43ef-989a-9a05fadf2891\")) {                    Plotly.newPlot(                        \"31437287-8714-43ef-989a-9a05fadf2891\",                        [{\"mode\":\"markers\",\"name\":\"Risk-Return Relationship\",\"x\":[0.2637384238365615,-0.3478991711436275,0.6948670759779519,0.09865544290770953,-0.1450797147207676,-0.09849965496134093,0.12903634941849781,-0.1807315729238099,0.06599754613340089,0.1695231473465466,-0.14742609598407197,-0.2268251668783991,0.036182086902535826,-0.06675579228600634,0.1636862652773367,0.059267562060374465,0.07178222954217173,-0.14413439281578383,-0.028004362077142617,0.04831879643679465,0.11328513300516238,-0.09347259477732518,-0.05385326298997353,0.0023904151984897037,0.03595135505564994,0.06361381379592708,0.1489479578797699,0.06764032109866075,0.07217981314534952,-0.11684701849238067,0.016034997345387256,0.1845261401177442,-0.03908349685253494,0.10809503724730128,0.12964898542032716,-0.0376959285994098,-0.06688120208558164,-0.009638515046387915,0.024410473963636044,-0.055749372498939354,-0.0028832394218524238,0.11709389883400811,-0.028450037823640403,-0.03781802495464775,-0.10171097151010128,0.0026138645884683093,0.05079812709657589,0.08412730581588256,-0.12296792207528098,0.060101398044424735,0.0013611859644334888,0.0627256114580475,0.03655097614158277,-0.0029320956196828875,0.06143449852177659,-0.09457209257055224,-0.047765803356106876,0.022780757777340253,-0.04805746444687987,0.03228184258834372,-0.013573131661911467,0.00911961619731214,-0.0742134260360159,-0.12958218211994735,0.06769153129716302,-0.0731488475657451,-0.07777265757955348,0.038113060267923424,-0.10429615409320835,0.03587146251355293,0.025360753110584923,0.022366764618147503,0.029790500235596092,-0.0985937994950819,-0.06006733642885497,0.0866186090256171,0.054553366715825405,-0.007779303801451656,0.018285502014438064,0.040625783874161936,-0.03515529148930181,0.10060464606643635,-0.022260925242348968,0.06322837959411845,0.02773345220754225,0.11273108703934448,0.09091782496291984,-0.03903968440976134,0.045224128081534476,0.015890299978226698,0.11378862324320485,-0.008337987556521265,-0.13778243346636007,-0.05153115794674449,0.059395704134571084,0.07564173839259453,0.08330440441351836,0.017879892339816288,0.026277506112711145,-0.07911159343198115],\"y\":[0.20000208752351015,0.5521085742314583,0.19953886652612685,0.056687835099195,0.14507283141729124,0.26175671448416266,0.23556661057048495,0.10573175569486694,0.16097017319823453,0.29994167082877166,0.21907436500291003,0.192607334920563,0.15073499981594407,0.04385565820920015,0.0609272399554669,0.09916433582451008,0.06359367030475431,0.03781121761882219,0.04987445434194623,0.09920213110176998,0.058018734420960394,0.08396016844744121,0.1067785525408353,0.09892741069343543,0.07109055362488796,0.05938331173018295,0.19228203033528316,0.1125624625816117,0.09546579248811442,0.1336805256538131,0.09761564342916418,0.03396905531073494,0.11261511879021381,0.07769288058879129,0.038074745490909445,0.0976837982355268,0.08003588640905356,0.08686333869296216,0.06419725982143026,0.054691084151482994,0.06927848844217287,0.08640764754600794,0.08193241782579878,0.07588741808717615,0.061040086300721635,0.037050308896494466,0.026946694970835634,0.059081065254518395,0.022304668407795984,0.05153222454345759,0.046233431976175035,0.07329346072247177,0.06371124470370565,0.051965942515594776,0.05429817641614236,0.027183432495936077,0.07557091183850247,0.07877686107738999,0.07807897100825532,0.03735909120878168,0.02178122418919729,0.08426870203403845,0.04220001277575834,0.037887400876735595,0.057529621520113566,0.045918697805437385,0.07778048796640528,0.07982197018758769,0.05089961520283214,0.03100610969105445,0.05978161035009762,0.02873172268342991,0.06576692240402313,0.07882588820706377,0.10977554182289602,0.0799572614813164,0.06936359054043398,0.05203483750103815,0.08586812738809062,0.041282889715591214,0.06729918633604576,0.03374338482879033,0.058324546087215635,0.018032604745464868,0.06520784063445932,0.06637514380636367,0.04847882552784497,0.014347410974653542,0.029958307514734498,0.019867055566470438,0.04019497709903303,0.05510649050479559,0.0678312040882634,0.05527732437560692,0.0233515855823142,0.04745429983797292,0.032817275157166044,0.04251673864749317,0.04796334540469935,0.037122205896196914],\"type\":\"scatter\"},{\"mode\":\"lines\",\"name\":\"Best Fit Line\",\"x\":[0.2637384238365615,-0.3478991711436275,0.6948670759779519,0.09865544290770953,-0.1450797147207676,-0.09849965496134093,0.12903634941849781,-0.1807315729238099,0.06599754613340089,0.1695231473465466,-0.14742609598407197,-0.2268251668783991,0.036182086902535826,-0.06675579228600634,0.1636862652773367,0.059267562060374465,0.07178222954217173,-0.14413439281578383,-0.028004362077142617,0.04831879643679465,0.11328513300516238,-0.09347259477732518,-0.05385326298997353,0.0023904151984897037,0.03595135505564994,0.06361381379592708,0.1489479578797699,0.06764032109866075,0.07217981314534952,-0.11684701849238067,0.016034997345387256,0.1845261401177442,-0.03908349685253494,0.10809503724730128,0.12964898542032716,-0.0376959285994098,-0.06688120208558164,-0.009638515046387915,0.024410473963636044,-0.055749372498939354,-0.0028832394218524238,0.11709389883400811,-0.028450037823640403,-0.03781802495464775,-0.10171097151010128,0.0026138645884683093,0.05079812709657589,0.08412730581588256,-0.12296792207528098,0.060101398044424735,0.0013611859644334888,0.0627256114580475,0.03655097614158277,-0.0029320956196828875,0.06143449852177659,-0.09457209257055224,-0.047765803356106876,0.022780757777340253,-0.04805746444687987,0.03228184258834372,-0.013573131661911467,0.00911961619731214,-0.0742134260360159,-0.12958218211994735,0.06769153129716302,-0.0731488475657451,-0.07777265757955348,0.038113060267923424,-0.10429615409320835,0.03587146251355293,0.025360753110584923,0.022366764618147503,0.029790500235596092,-0.0985937994950819,-0.06006733642885497,0.0866186090256171,0.054553366715825405,-0.007779303801451656,0.018285502014438064,0.040625783874161936,-0.03515529148930181,0.10060464606643635,-0.022260925242348968,0.06322837959411845,0.02773345220754225,0.11273108703934448,0.09091782496291984,-0.03903968440976134,0.045224128081534476,0.015890299978226698,0.11378862324320485,-0.008337987556521265,-0.13778243346636007,-0.05153115794674449,0.059395704134571084,0.07564173839259453,0.08330440441351836,0.017879892339816288,0.026277506112711145,-0.07911159343198115],\"y\":[0.06729260592200134,0.10350403393318414,0.041768039939294066,0.07706618839769958,0.09149629895122721,0.08873857036394227,0.0752675154285118,0.09360703365324659,0.07899966843186558,0.07287053267171718,0.09163521424502252,0.09633596149051821,0.08076486462716126,0.08685920485812836,0.07321609977974591,0.07939811080325823,0.07865719169638798,0.09144033205777485,0.0845649629134616,0.08004632216476294,0.07620005136796551,0.08844094799825485,0.08609532275768193,0.08276546873869928,0.08077852488894367,0.07914079506084457,0.0740886673944802,0.07890240948656643,0.07863365313344964,0.08982480874946984,0.0819576540977908,0.07198229460861363,0.085220892657869,0.07650732610131969,0.07523124489076302,0.08513874298570853,0.08686662962725061,0.0834776302297339,0.08146179188933565,0.0862075801361504,0.08307769049584379,0.07597455697266567,0.08459134872647095,0.08514597158547808,0.0889286933370573,0.0827522396279223,0.07989953572710864,0.07792631307733822,0.09018719108383692,0.07934874432880117,0.08282640328657846,0.07919338024409925,0.08074302488703822,0.0830805829810428,0.07926981937002903,0.08850604273002846,0.08573492044083304,0.08155827770191985,0.0857521879611406,0.08099577492006758,0.08371057550238224,0.08236707272847768,0.08730072704363265,0.09057878212307387,0.07889937763497372,0.08723769967750138,0.08751144799648401,0.0806505431668944,0.08908174663818241,0.08078325485168716,0.08140553150703954,0.08158278777717401,0.08114327249869607,0.08874414410243413,0.08646322112566165,0.07777881781613497,0.07967721030065802,0.08336755737825104,0.08182441508749941,0.08050177973128143,0.08498832695737693,0.0769507876596797,0.08422492814256653,0.07916361432991237,0.08126505809067858,0.07623285313778927,0.07752428678387686,0.08521829878343991,0.08022953909139516,0.08196622076919448,0.0761702427024112,0.0834006337240214,0.09106427028426815,0.08595784471464238,0.07939052427238921,0.07842869310826549,0.07797503218018044,0.08184842882644179,0.0813512560085859,0.08759071843314405],\"type\":\"scatter\"}],                        {\"template\":{\"data\":{\"histogram2dcontour\":[{\"type\":\"histogram2dcontour\",\"colorbar\":{\"outlinewidth\":0,\"ticks\":\"\"},\"colorscale\":[[0.0,\"#0d0887\"],[0.1111111111111111,\"#46039f\"],[0.2222222222222222,\"#7201a8\"],[0.3333333333333333,\"#9c179e\"],[0.4444444444444444,\"#bd3786\"],[0.5555555555555556,\"#d8576b\"],[0.6666666666666666,\"#ed7953\"],[0.7777777777777778,\"#fb9f3a\"],[0.8888888888888888,\"#fdca26\"],[1.0,\"#f0f921\"]]}],\"choropleth\":[{\"type\":\"choropleth\",\"colorbar\":{\"outlinewidth\":0,\"ticks\":\"\"}}],\"histogram2d\":[{\"type\":\"histogram2d\",\"colorbar\":{\"outlinewidth\":0,\"ticks\":\"\"},\"colorscale\":[[0.0,\"#0d0887\"],[0.1111111111111111,\"#46039f\"],[0.2222222222222222,\"#7201a8\"],[0.3333333333333333,\"#9c179e\"],[0.4444444444444444,\"#bd3786\"],[0.5555555555555556,\"#d8576b\"],[0.6666666666666666,\"#ed7953\"],[0.7777777777777778,\"#fb9f3a\"],[0.8888888888888888,\"#fdca26\"],[1.0,\"#f0f921\"]]}],\"heatmap\":[{\"type\":\"heatmap\",\"colorbar\":{\"outlinewidth\":0,\"ticks\":\"\"},\"colorscale\":[[0.0,\"#0d0887\"],[0.1111111111111111,\"#46039f\"],[0.2222222222222222,\"#7201a8\"],[0.3333333333333333,\"#9c179e\"],[0.4444444444444444,\"#bd3786\"],[0.5555555555555556,\"#d8576b\"],[0.6666666666666666,\"#ed7953\"],[0.7777777777777778,\"#fb9f3a\"],[0.8888888888888888,\"#fdca26\"],[1.0,\"#f0f921\"]]}],\"heatmapgl\":[{\"type\":\"heatmapgl\",\"colorbar\":{\"outlinewidth\":0,\"ticks\":\"\"},\"colorscale\":[[0.0,\"#0d0887\"],[0.1111111111111111,\"#46039f\"],[0.2222222222222222,\"#7201a8\"],[0.3333333333333333,\"#9c179e\"],[0.4444444444444444,\"#bd3786\"],[0.5555555555555556,\"#d8576b\"],[0.6666666666666666,\"#ed7953\"],[0.7777777777777778,\"#fb9f3a\"],[0.8888888888888888,\"#fdca26\"],[1.0,\"#f0f921\"]]}],\"contourcarpet\":[{\"type\":\"contourcarpet\",\"colorbar\":{\"outlinewidth\":0,\"ticks\":\"\"}}],\"contour\":[{\"type\":\"contour\",\"colorbar\":{\"outlinewidth\":0,\"ticks\":\"\"},\"colorscale\":[[0.0,\"#0d0887\"],[0.1111111111111111,\"#46039f\"],[0.2222222222222222,\"#7201a8\"],[0.3333333333333333,\"#9c179e\"],[0.4444444444444444,\"#bd3786\"],[0.5555555555555556,\"#d8576b\"],[0.6666666666666666,\"#ed7953\"],[0.7777777777777778,\"#fb9f3a\"],[0.8888888888888888,\"#fdca26\"],[1.0,\"#f0f921\"]]}],\"surface\":[{\"type\":\"surface\",\"colorbar\":{\"outlinewidth\":0,\"ticks\":\"\"},\"colorscale\":[[0.0,\"#0d0887\"],[0.1111111111111111,\"#46039f\"],[0.2222222222222222,\"#7201a8\"],[0.3333333333333333,\"#9c179e\"],[0.4444444444444444,\"#bd3786\"],[0.5555555555555556,\"#d8576b\"],[0.6666666666666666,\"#ed7953\"],[0.7777777777777778,\"#fb9f3a\"],[0.8888888888888888,\"#fdca26\"],[1.0,\"#f0f921\"]]}],\"mesh3d\":[{\"type\":\"mesh3d\",\"colorbar\":{\"outlinewidth\":0,\"ticks\":\"\"}}],\"scatter\":[{\"fillpattern\":{\"fillmode\":\"overlay\",\"size\":10,\"solidity\":0.2},\"type\":\"scatter\"}],\"parcoords\":[{\"type\":\"parcoords\",\"line\":{\"colorbar\":{\"outlinewidth\":0,\"ticks\":\"\"}}}],\"scatterpolargl\":[{\"type\":\"scatterpolargl\",\"marker\":{\"colorbar\":{\"outlinewidth\":0,\"ticks\":\"\"}}}],\"bar\":[{\"error_x\":{\"color\":\"#2a3f5f\"},\"error_y\":{\"color\":\"#2a3f5f\"},\"marker\":{\"line\":{\"color\":\"#E5ECF6\",\"width\":0.5},\"pattern\":{\"fillmode\":\"overlay\",\"size\":10,\"solidity\":0.2}},\"type\":\"bar\"}],\"scattergeo\":[{\"type\":\"scattergeo\",\"marker\":{\"colorbar\":{\"outlinewidth\":0,\"ticks\":\"\"}}}],\"scatterpolar\":[{\"type\":\"scatterpolar\",\"marker\":{\"colorbar\":{\"outlinewidth\":0,\"ticks\":\"\"}}}],\"histogram\":[{\"marker\":{\"pattern\":{\"fillmode\":\"overlay\",\"size\":10,\"solidity\":0.2}},\"type\":\"histogram\"}],\"scattergl\":[{\"type\":\"scattergl\",\"marker\":{\"colorbar\":{\"outlinewidth\":0,\"ticks\":\"\"}}}],\"scatter3d\":[{\"type\":\"scatter3d\",\"line\":{\"colorbar\":{\"outlinewidth\":0,\"ticks\":\"\"}},\"marker\":{\"colorbar\":{\"outlinewidth\":0,\"ticks\":\"\"}}}],\"scattermapbox\":[{\"type\":\"scattermapbox\",\"marker\":{\"colorbar\":{\"outlinewidth\":0,\"ticks\":\"\"}}}],\"scatterternary\":[{\"type\":\"scatterternary\",\"marker\":{\"colorbar\":{\"outlinewidth\":0,\"ticks\":\"\"}}}],\"scattercarpet\":[{\"type\":\"scattercarpet\",\"marker\":{\"colorbar\":{\"outlinewidth\":0,\"ticks\":\"\"}}}],\"carpet\":[{\"aaxis\":{\"endlinecolor\":\"#2a3f5f\",\"gridcolor\":\"white\",\"linecolor\":\"white\",\"minorgridcolor\":\"white\",\"startlinecolor\":\"#2a3f5f\"},\"baxis\":{\"endlinecolor\":\"#2a3f5f\",\"gridcolor\":\"white\",\"linecolor\":\"white\",\"minorgridcolor\":\"white\",\"startlinecolor\":\"#2a3f5f\"},\"type\":\"carpet\"}],\"table\":[{\"cells\":{\"fill\":{\"color\":\"#EBF0F8\"},\"line\":{\"color\":\"white\"}},\"header\":{\"fill\":{\"color\":\"#C8D4E3\"},\"line\":{\"color\":\"white\"}},\"type\":\"table\"}],\"barpolar\":[{\"marker\":{\"line\":{\"color\":\"#E5ECF6\",\"width\":0.5},\"pattern\":{\"fillmode\":\"overlay\",\"size\":10,\"solidity\":0.2}},\"type\":\"barpolar\"}],\"pie\":[{\"automargin\":true,\"type\":\"pie\"}]},\"layout\":{\"autotypenumbers\":\"strict\",\"colorway\":[\"#636efa\",\"#EF553B\",\"#00cc96\",\"#ab63fa\",\"#FFA15A\",\"#19d3f3\",\"#FF6692\",\"#B6E880\",\"#FF97FF\",\"#FECB52\"],\"font\":{\"color\":\"#2a3f5f\"},\"hovermode\":\"closest\",\"hoverlabel\":{\"align\":\"left\"},\"paper_bgcolor\":\"white\",\"plot_bgcolor\":\"#E5ECF6\",\"polar\":{\"bgcolor\":\"#E5ECF6\",\"angularaxis\":{\"gridcolor\":\"white\",\"linecolor\":\"white\",\"ticks\":\"\"},\"radialaxis\":{\"gridcolor\":\"white\",\"linecolor\":\"white\",\"ticks\":\"\"}},\"ternary\":{\"bgcolor\":\"#E5ECF6\",\"aaxis\":{\"gridcolor\":\"white\",\"linecolor\":\"white\",\"ticks\":\"\"},\"baxis\":{\"gridcolor\":\"white\",\"linecolor\":\"white\",\"ticks\":\"\"},\"caxis\":{\"gridcolor\":\"white\",\"linecolor\":\"white\",\"ticks\":\"\"}},\"coloraxis\":{\"colorbar\":{\"outlinewidth\":0,\"ticks\":\"\"}},\"colorscale\":{\"sequential\":[[0.0,\"#0d0887\"],[0.1111111111111111,\"#46039f\"],[0.2222222222222222,\"#7201a8\"],[0.3333333333333333,\"#9c179e\"],[0.4444444444444444,\"#bd3786\"],[0.5555555555555556,\"#d8576b\"],[0.6666666666666666,\"#ed7953\"],[0.7777777777777778,\"#fb9f3a\"],[0.8888888888888888,\"#fdca26\"],[1.0,\"#f0f921\"]],\"sequentialminus\":[[0.0,\"#0d0887\"],[0.1111111111111111,\"#46039f\"],[0.2222222222222222,\"#7201a8\"],[0.3333333333333333,\"#9c179e\"],[0.4444444444444444,\"#bd3786\"],[0.5555555555555556,\"#d8576b\"],[0.6666666666666666,\"#ed7953\"],[0.7777777777777778,\"#fb9f3a\"],[0.8888888888888888,\"#fdca26\"],[1.0,\"#f0f921\"]],\"diverging\":[[0,\"#8e0152\"],[0.1,\"#c51b7d\"],[0.2,\"#de77ae\"],[0.3,\"#f1b6da\"],[0.4,\"#fde0ef\"],[0.5,\"#f7f7f7\"],[0.6,\"#e6f5d0\"],[0.7,\"#b8e186\"],[0.8,\"#7fbc41\"],[0.9,\"#4d9221\"],[1,\"#276419\"]]},\"xaxis\":{\"gridcolor\":\"white\",\"linecolor\":\"white\",\"ticks\":\"\",\"title\":{\"standoff\":15},\"zerolinecolor\":\"white\",\"automargin\":true,\"zerolinewidth\":2},\"yaxis\":{\"gridcolor\":\"white\",\"linecolor\":\"white\",\"ticks\":\"\",\"title\":{\"standoff\":15},\"zerolinecolor\":\"white\",\"automargin\":true,\"zerolinewidth\":2},\"scene\":{\"xaxis\":{\"backgroundcolor\":\"#E5ECF6\",\"gridcolor\":\"white\",\"linecolor\":\"white\",\"showbackground\":true,\"ticks\":\"\",\"zerolinecolor\":\"white\",\"gridwidth\":2},\"yaxis\":{\"backgroundcolor\":\"#E5ECF6\",\"gridcolor\":\"white\",\"linecolor\":\"white\",\"showbackground\":true,\"ticks\":\"\",\"zerolinecolor\":\"white\",\"gridwidth\":2},\"zaxis\":{\"backgroundcolor\":\"#E5ECF6\",\"gridcolor\":\"white\",\"linecolor\":\"white\",\"showbackground\":true,\"ticks\":\"\",\"zerolinecolor\":\"white\",\"gridwidth\":2}},\"shapedefaults\":{\"line\":{\"color\":\"#2a3f5f\"}},\"annotationdefaults\":{\"arrowcolor\":\"#2a3f5f\",\"arrowhead\":0,\"arrowwidth\":1},\"geo\":{\"bgcolor\":\"white\",\"landcolor\":\"#E5ECF6\",\"subunitcolor\":\"white\",\"showland\":true,\"showlakes\":true,\"lakecolor\":\"white\"},\"title\":{\"x\":0.05},\"mapbox\":{\"style\":\"light\"}}},\"xaxis\":{\"title\":{\"text\":\"Return\"}},\"yaxis\":{\"title\":{\"text\":\"Standard Deviation\"}},\"width\":900,\"height\":470},                        {\"responsive\": true}                    ).then(function(){\n",
       "                            \n",
       "var gd = document.getElementById('31437287-8714-43ef-989a-9a05fadf2891');\n",
       "var x = new MutationObserver(function (mutations, observer) {{\n",
       "        var display = window.getComputedStyle(gd).display;\n",
       "        if (!display || display === 'none') {{\n",
       "            console.log([gd, 'removed!']);\n",
       "            Plotly.purge(gd);\n",
       "            observer.disconnect();\n",
       "        }}\n",
       "}});\n",
       "\n",
       "// Listen for the removal of the full notebook cells\n",
       "var notebookContainer = gd.closest('#notebook-container');\n",
       "if (notebookContainer) {{\n",
       "    x.observe(notebookContainer, {childList: true});\n",
       "}}\n",
       "\n",
       "// Listen for the clearing of the current output cell\n",
       "var outputEl = gd.closest('.output');\n",
       "if (outputEl) {{\n",
       "    x.observe(outputEl, {childList: true});\n",
       "}}\n",
       "\n",
       "                        })                };                });            </script>        </div>"
      ]
     },
     "metadata": {},
     "output_type": "display_data"
    }
   ],
   "source": [
    "fig = go.Figure()\n",
    "fig.add_trace(go.Scatter(name = 'Risk-Return Relationship',\n",
    "                         x = portfolio[:, 0], y = portfolio[:, 1], mode = 'markers'))\n",
    "fig.add_trace(go.Scatter(name = 'Best Fit Line', x = portfolio[:, 0], y = best_fit, mode = 'lines'))\n",
    "fig.update_layout(xaxis_title = 'Return', yaxis_title = 'Standard Deviation', width = 900, height = 470)\n",
    "fig.show()"
   ]
  },
  {
   "cell_type": "markdown",
   "metadata": {},
   "source": [
    "Adverse selection is a type of asymmetric information in which one party tries to exploit its informational advantage. This arises when sellers are better informed than buyers. This phenomenon was perfectly coined by Akerlof (1978) as “the Markets for Lemons.”\n",
    "Within this framework, “lemons” refer to low-quality commodities. Consider a market with lemons and high-quality cars, and buyers know that they’re likely to buy a lemon, which lowers the equilibrium price.\n",
    "However, the seller is bet‐ ter informed whether the car is a lemon or of high quality.\n",
    "So, in this situation, bene‐ fit from exchange might disappear, and no transaction takes place.\n",
    "Because of its complexity and opaqueness, the mortgage market in the pre-crisis era is a good example of adverse selection.\n",
    "Borrowers knew more about their willingness and ability to pay than lenders.\n",
    "Financial risk was created through the securitizations of the loans (i.e., mortgage-backed securities). From that point on, the originators of the mortgage loans knew more about the risks than those who were selling them to investors in the form of mortgage-backed securities.\n",
    "\n",
    "Lets model adverse selection, suppose the consumer utility function is:\n",
    "$$ U(x) = e^{\\gamma x} $$\n",
    "\n",
    "<center> Where x is income and $\\gamma$ is a parameter, which takes on values (0, 1). </center>\n",
    "\n",
    "---\n",
    "---\n",
    ">>### Note: The utility function is a tool used to represent consumer preferences for goods and services, and it is concave for risk-averse individuals.\n",
    "---\n",
    "---\n",
    "\n"
   ]
  },
  {
   "cell_type": "code",
   "execution_count": 14,
   "metadata": {},
   "outputs": [
    {
     "name": "stdout",
     "output_type": "stream",
     "text": [
      "The highest three probability of losses are [0.80597659 0.847267   0.99904857]\n"
     ]
    }
   ],
   "source": [
    "import seaborn as sns; sns.set_style('whitegrid')\n",
    "\n",
    "def utility(x):\n",
    "\treturn (np.exp(x**gamma))\n",
    "\n",
    "\n",
    "pi = np.random.uniform(0, 1, 20)\n",
    "pi = np.sort(pi)\n",
    "\n",
    "print(f'The highest three probability of losses are {pi[-3:]}')"
   ]
  },
  {
   "cell_type": "code",
   "execution_count": 16,
   "metadata": {},
   "outputs": [
    {
     "data": {
      "image/png": "[encoded data removed]",
      "text/plain": [
       "<Figure size 640x480 with 1 Axes>"
      ]
     },
     "metadata": {},
     "output_type": "display_data"
    }
   ],
   "source": [
    "y = 2\n",
    "c = 1.5\n",
    "Q = 5\n",
    "D = 0.01\n",
    "gamma = 0.4\n",
    "\n",
    "def supply(Q):\n",
    "\treturn (np.mean(pi[-Q:]) * c)\n",
    "\n",
    "\n",
    "def demand(D):\n",
    "    return (np.sum(utility(y - D) > pi * utility(y - c) + (1 - pi) * utility(y)))\n",
    "\n",
    "plt.figure()\n",
    "plt.plot([demand(i) for i in np.arange(0, 1.9, 0.02)], np.arange(0, 1.9, 0.02), 'r', label = 'insurance demand')\n",
    "plt.plot(range(1, 21), [supply(j) for j in range(1, 21)], 'g', label = 'insurance supply')\n",
    "plt.ylabel('Average cost')\n",
    "plt.xlabel('Number of People')\n",
    "plt.legend()\n",
    "plt.show()"
   ]
  },
  {
   "cell_type": "code",
   "execution_count": null,
   "metadata": {},
   "outputs": [],
   "source": []
  }
 ],
 "metadata": {
  "kernelspec": {
   "display_name": "Python 3",
   "language": "python",
   "name": "python3"
  },
  "language_info": {
   "codemirror_mode": {
    "name": "ipython",
    "version": 3
   },
   "file_extension": ".py",
   "mimetype": "text/x-python",
   "name": "python",
   "nbconvert_exporter": "python",
   "pygments_lexer": "ipython3",
   "version": "3.11.1"
  },
  "orig_nbformat": 4
 },
 "nbformat": 4,
 "nbformat_minor": 2
}
