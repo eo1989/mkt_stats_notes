{
 "cells": [
  {
   "cell_type": "code",
   "execution_count": 1,
   "metadata": {},
   "outputs": [
    {
     "name": "stdout",
     "output_type": "stream",
     "text": [
      "1\n",
      "1\n",
      "2\n",
      "3\n",
      "5\n",
      "8\n",
      "13\n",
      "21\n",
      "34\n",
      "55\n",
      "89\n",
      "144\n",
      "233\n",
      "377\n",
      "610\n",
      "987\n",
      "1597\n",
      "2584\n",
      "4181\n",
      "6765\n",
      "10946\n",
      "17711\n",
      "28657\n",
      "46368\n",
      "75025\n",
      "121393\n",
      "196418\n",
      "317811\n",
      "514229\n",
      "832040\n"
     ]
    }
   ],
   "source": [
    "# Fib examples from Rosetta Code\n",
    "# https://rosettacode.org/wiki/Fibonacci_sequence#Python\n",
    "# --------------------------------------------------------\n",
    "# Binet's formula\n",
    "from math import *\n",
    "\n",
    "def analytic_fib(n):\n",
    "\tsqrt_5 = sqrt(5)\n",
    "\tp = (1 + sqrt_5)/2\n",
    "\tq = 1/p\n",
    "\t# return int((p**n - q**n)/sqrt_5)\n",
    "\treturn int((p**n + q**n)/sqrt_5 + 0.5)\n",
    "\n",
    "\n",
    "for i in range(1, 31):\n",
    "\tprint(analytic_fib(i))"
   ]
  },
  {
   "cell_type": "code",
   "execution_count": 3,
   "metadata": {},
   "outputs": [
    {
     "name": "stdout",
     "output_type": "stream",
     "text": [
      "-832040.0\n",
      "514229.0\n",
      "-317811.0\n",
      "196418.0\n",
      "-121393.0\n",
      "75025.0\n",
      "-46368.0\n",
      "28657.0\n",
      "-17711.0\n",
      "10946.0\n",
      "-6765.0\n",
      "4181.0\n",
      "-2584.0\n",
      "1597.0\n",
      "-987.0\n",
      "610.0\n",
      "-377.0\n",
      "233.0\n",
      "-144.0\n",
      "89.0\n",
      "-55.0\n",
      "34.0\n",
      "-21.0\n",
      "13.0\n",
      "-8.0\n",
      "5.0\n",
      "-3.0\n",
      "2.0\n",
      "-1.0\n",
      "1.0\n",
      "0\n",
      "1\n",
      "1\n",
      "2\n",
      "3\n",
      "5\n",
      "8\n",
      "13\n",
      "21\n",
      "34\n",
      "55\n",
      "89\n",
      "144\n",
      "233\n",
      "377\n",
      "610\n",
      "987\n",
      "1597\n",
      "2584\n",
      "4181\n",
      "6765\n",
      "10946\n",
      "17711\n",
      "28657\n",
      "46368\n",
      "75025\n",
      "121393\n",
      "196418\n",
      "317811\n",
      "514229\n",
      "832040\n"
     ]
    }
   ],
   "source": [
    "# iterative\n",
    "def fib_iter(n):\n",
    "\tif n < 2:\n",
    "\t\treturn n\n",
    "\tfib_prev = 1\n",
    "\tfib = 1\n",
    "\tfor _ in range(2, n):\n",
    "\t\tfib_prev, fib = fib, fib + fib_prev  # boring way\n",
    "\treturn fib\n",
    "\n",
    "# iterative for positive and negative\n",
    "def fib(n, x=[0, 1]):\n",
    "    for i in range(abs(n) - 1):\n",
    "        x = [x[1], sum(x)]\n",
    "    return x[1]*pow(-1, abs(n) - 1) if n < 0 else x[1] if n else 0\n",
    "\n",
    "for i in range(-30, 31):\n",
    "    print(fib(i))"
   ]
  },
  {
   "cell_type": "code",
   "execution_count": 4,
   "metadata": {},
   "outputs": [
    {
     "name": "stdout",
     "output_type": "stream",
     "text": [
      "1\n",
      "1\n",
      "2\n",
      "3\n",
      "5\n",
      "8\n",
      "13\n",
      "21\n",
      "34\n",
      "55\n",
      "89\n",
      "144\n",
      "233\n",
      "377\n",
      "610\n",
      "987\n",
      "1597\n",
      "2584\n",
      "4181\n",
      "6765\n",
      "10946\n",
      "17711\n",
      "28657\n",
      "46368\n",
      "75025\n",
      "121393\n",
      "196418\n",
      "317811\n",
      "514229\n",
      "832040\n"
     ]
    }
   ],
   "source": [
    "# Recursive\n",
    "def fib_rec(n):\n",
    "\tif n < 2:\n",
    "\t\treturn n\n",
    "\treturn fib_rec(n - 1) + fib_rec(n - 2)\n",
    "\n",
    "# Recursive with memoization\n",
    "def fib_memo():\n",
    "    pad = {0: 0, 1:1}\n",
    "    def fx(n):\n",
    "        if n not in pad:\n",
    "            pad[n] = fx(n-1) + fx(n-2)\n",
    "        return pad[n]\n",
    "    return fx\n",
    "\n",
    "fm = fib_memo()\n",
    "for i in range(1, 31):\n",
    "    print(fm(i))"
   ]
  },
  {
   "cell_type": "code",
   "execution_count": 5,
   "metadata": {},
   "outputs": [],
   "source": [
    "# Faster recursive w/o memoization\n",
    "# doesnt use memory therefore limits the size of 'n' elements\n",
    "# due to the limit on stack recursion depth in python its better to use iterative (above) or generative (below)\n",
    "def fast_fib(n):\n",
    "\tdef fib(pz, px, c):\n",
    "\t\tif c < 1:\n",
    "\t\t\treturn pz\n",
    "\t\telse:\n",
    "\t\t\treturn fib(px, pz + px, c - 1)\n",
    "\treturn fib(0, 1, n)\n",
    "\n"
   ]
  },
  {
   "cell_type": "code",
   "execution_count": 7,
   "metadata": {},
   "outputs": [
    {
     "ename": "ValueError",
     "evalue": "too many values to unpack (expected 2)",
     "output_type": "error",
     "traceback": [
      "\u001b[1;31m---------------------------------------------------------------------------\u001b[0m",
      "\u001b[1;31mValueError\u001b[0m                                Traceback (most recent call last)",
      "Cell \u001b[1;32mIn[7], line 8\u001b[0m\n\u001b[0;32m      5\u001b[0m \t\t\u001b[39myield\u001b[39;00m a\n\u001b[0;32m      6\u001b[0m \t\ta, b \u001b[39m=\u001b[39m b, a \u001b[39m+\u001b[39m b, n \u001b[39m-\u001b[39m \u001b[39m1\u001b[39m\n\u001b[1;32m----> 8\u001b[0m [i \u001b[39mfor\u001b[39;00m i \u001b[39min\u001b[39;00m fib_gen(\u001b[39m11\u001b[39m)]\n",
      "Cell \u001b[1;32mIn[7], line 8\u001b[0m, in \u001b[0;36m<listcomp>\u001b[1;34m(.0)\u001b[0m\n\u001b[0;32m      5\u001b[0m \t\t\u001b[39myield\u001b[39;00m a\n\u001b[0;32m      6\u001b[0m \t\ta, b \u001b[39m=\u001b[39m b, a \u001b[39m+\u001b[39m b, n \u001b[39m-\u001b[39m \u001b[39m1\u001b[39m\n\u001b[1;32m----> 8\u001b[0m [i \u001b[39mfor\u001b[39;00m i \u001b[39min\u001b[39;00m fib_gen(\u001b[39m11\u001b[39m)]\n",
      "Cell \u001b[1;32mIn[7], line 6\u001b[0m, in \u001b[0;36mfib_gen\u001b[1;34m(n)\u001b[0m\n\u001b[0;32m      4\u001b[0m \u001b[39mwhile\u001b[39;00m n \u001b[39m>\u001b[39m \u001b[39m0\u001b[39m:\n\u001b[0;32m      5\u001b[0m \t\u001b[39myield\u001b[39;00m a\n\u001b[1;32m----> 6\u001b[0m \ta, b \u001b[39m=\u001b[39m b, a \u001b[39m+\u001b[39m b, n \u001b[39m-\u001b[39m \u001b[39m1\u001b[39m\n",
      "\u001b[1;31mValueError\u001b[0m: too many values to unpack (expected 2)"
     ]
    }
   ],
   "source": [
    "# Generative\n",
    "def fib_gen(n):\n",
    "\ta, b = 0, 1\n",
    "\twhile n > 0:\n",
    "\t\tyield a\n",
    "\t\ta, b = b, a + b, n - 1\n",
    "\n",
    "[i for i in fib_gen(11)]"
   ]
  },
  {
   "cell_type": "code",
   "execution_count": 8,
   "metadata": {},
   "outputs": [
    {
     "name": "stdout",
     "output_type": "stream",
     "text": [
      "first twenty: [1, 1, 2, 3, 5, 8, 13, 21, 34, 55, 89, 144, 233, 377, 610, 987, 1597, 2584, 4181, 6765]\n"
     ]
    }
   ],
   "source": [
    "# using itertools.accumulate and reduce\n",
    "from itertools import accumulate, chain\n",
    "from operator import add\n",
    "from functools import reduce\n",
    "\n",
    "# fibs :: Integer :: [Integer]\n",
    "def fibs(n):\n",
    "    def go(ab, _):\n",
    "        return ab[1], add(*ab)\n",
    "    return [xy[1] for xy in accumulate(chain([(0, 1)], range(1, n)), go)]\n",
    "\n",
    "print(f\"first twenty: {repr(fibs(20))}\")"
   ]
  },
  {
   "cell_type": "code",
   "execution_count": 9,
   "metadata": {},
   "outputs": [
    {
     "name": "stdout",
     "output_type": "stream",
     "text": [
      "first twenty: [1, 1, 2, 3, 5, 8, 13, 21, 34, 55, 89, 144, 233, 377, 610, 987, 1597, 2584, 4181, 6765]\n"
     ]
    }
   ],
   "source": [
    "# functools reduce method\n",
    "def nth_fib(n):\n",
    "    def go(ab, _):\n",
    "        return ab[1], add(*ab)\n",
    "    return reduce(go, range(1, n), (0, 1))[1]\n",
    "\n",
    "print(f\"first twenty: {(fibs(20))}\")\n"
   ]
  },
  {
   "cell_type": "code",
   "execution_count": 10,
   "metadata": {},
   "outputs": [],
   "source": [
    "# or simply with 3.9\n",
    "def fib(n):\n",
    "    return reduce(lambda x, y: (x[1], x[0] + x[1]), range(n), (0, 1))[0]"
   ]
  },
  {
   "cell_type": "code",
   "execution_count": null,
   "metadata": {},
   "outputs": [],
   "source": []
  }
 ],
 "metadata": {
  "kernelspec": {
   "display_name": "Python 3",
   "language": "python",
   "name": "python3"
  },
  "language_info": {
   "codemirror_mode": {
    "name": "ipython",
    "version": 3
   },
   "file_extension": ".py",
   "mimetype": "text/x-python",
   "name": "python",
   "nbconvert_exporter": "python",
   "pygments_lexer": "ipython3",
   "version": "3.10.8"
  },
  "orig_nbformat": 4,
  "vscode": {
   "interpreter": {
    "hash": "369f2c481f4da34e4445cda3fffd2e751bd1c4d706f27375911949ba6bb62e1c"
   }
  }
 },
 "nbformat": 4,
 "nbformat_minor": 2
}
